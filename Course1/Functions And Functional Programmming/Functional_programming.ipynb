{
 "cells": [
  {
   "cell_type": "markdown",
   "metadata": {},
   "source": [
    "### Variadic Keyword Parameters\n",
    "A parameter of the form `**name` (such as`**kwargs`) in a function signature introduces a variadic keyword parameter. This parameter will capture excess keyword-supplied arguments into a dictionary named the same thing, such as kwargs."
   ]
  },
  {
   "cell_type": "code",
   "execution_count": 1,
   "metadata": {},
   "outputs": [
    {
     "name": "stdout",
     "output_type": "stream",
     "text": [
      "a=2, b=1, c={}\n",
      "a=2, b=1, c={'x': 7}\n",
      "a=2, b=1, c={'x': 7, 'y': 1}\n",
      "a=2, b=1, c={'x': 7, 'y': 1, 'z': 8}\n",
      "a=2, b=2, c={'x': 7, 'y': 1, 'z': 8}\n",
      "a=2, b=2, c={'x': 7, 'y': 1, 'z': 8}\n"
     ]
    }
   ],
   "source": [
    "def print_my_arguments(a, b=1, **c):\n",
    "    print(f\"a={a}, b={b}, c={c}\")\n",
    "\n",
    "print_my_arguments(2)                      # a=2, b=1, c={}\n",
    "print_my_arguments(2, x=7)                 # a=2, b=1, c={'x': 7}\n",
    "print_my_arguments(2, x=7, y=1)            # a=2, b=1, c={'x': 7, 'y': 1}\n",
    "print_my_arguments(2, x=7, y=1, z=8)       # a=2, b=1, c={'x': 7, 'y': 1, 'z': 8}\n",
    "print_my_arguments(2, x=7, y=1, z=8, b=2)  # a=2, b=2, c={'x': 7, 'y': 1, 'z': 8}\n",
    "print_my_arguments(2, x=7, b=2, y=1, z=8)  # a=2, b=2, c={'x': 7, 'y': 1, 'z': 8}"
   ]
  },
  {
   "cell_type": "code",
   "execution_count": 2,
   "metadata": {},
   "outputs": [],
   "source": [
    "def authorize(quote, **speaker_info):\n",
    "    print(\">\", quote)\n",
    "    print(\"-\" * (len(quote) + 2))\n",
    "    for key, value in speaker_info.items():\n",
    "        print(key, value, sep=': ')"
   ]
  },
  {
   "cell_type": "code",
   "execution_count": 3,
   "metadata": {},
   "outputs": [
    {
     "name": "stdout",
     "output_type": "stream",
     "text": [
      "> If music be the food of love, play on.\n",
      "----------------------------------------\n",
      "playwright: Shakespeare\n",
      "act: 1\n",
      "scene: 1\n",
      "speaker: Duke Orsino\n",
      "> O partigiano, portami via.\n",
      "----------------------------\n",
      "canzone: Bella Ciao\n",
      "lingua: Italiano\n"
     ]
    }
   ],
   "source": [
    "authorize(\n",
    "    \"If music be the food of love, play on.\",\n",
    "    playwright=\"Shakespeare\",\n",
    "    act=1,\n",
    "    scene=1,\n",
    "    speaker=\"Duke Orsino\"\n",
    ")\n",
    "# > If music be the food of love, play on.\n",
    "# ----------------------------------------\n",
    "# playwright: Shakespeare\n",
    "# act: 1\n",
    "# scene: 1\n",
    "# speaker: Duke Orsino\n",
    "authorize(\n",
    "    \"O partigiano, portami via.\",\n",
    "    canzone=\"Bella Ciao\",\n",
    "    lingua=\"Italiano\",\n",
    ")\n",
    "# > O partigiano, portami via.\n",
    "# ----------------------------\n",
    "# canzone: Bella Ciao\n",
    "# lingua: Italiano"
   ]
  },
  {
   "cell_type": "markdown",
   "metadata": {},
   "source": [
    "### Exercise: Create Profile"
   ]
  },
  {
   "cell_type": "markdown",
   "metadata": {},
   "source": [
    "Exercise: Create Profile\n",
    "In this exercise, you'll write a function named `create_profile`. This function should require at least one positional argument (someone's given name, and a variadic collection of surnames or modifiers) and must handle a variadic collection of keyword-specified arguments with details from a profile.\n",
    "\n",
    "You'll need to define the function signature so that it can be called in the following valid ways:"
   ]
  },
  {
   "cell_type": "code",
   "execution_count": 13,
   "metadata": {},
   "outputs": [
    {
     "name": "stdout",
     "output_type": "stream",
     "text": [
      "Sam\n",
      "------------------------------\n",
      "Martin Luther King Jr.\n",
      "born : 1929\n",
      "died : 1968\n",
      "------------------------------\n",
      "Sebastian Thrun\n",
      "cofounded : Udacity\n",
      "experience : Stanford Professor\n",
      "------------------------------\n"
     ]
    }
   ],
   "source": [
    "\n",
    "def create_profile(given_name, *surnames, **details):\n",
    "    \"\"\"Write a function that prints a profile, given values.\"\"\"\n",
    "\n",
    "    print(given_name,*surnames) \n",
    "    for key , value in details.items() : \n",
    "        print(key , value , sep=\" : \")\n",
    "    print(\"-\"*30) \n",
    "if __name__ == '__main__':\n",
    "    create_profile(\"Sam\")\n",
    "    create_profile(\"Martin\", \"Luther\", \"King\", \"Jr.\", born=1929, died=1968)\n",
    "    create_profile(\"Sebastian\", \"Thrun\", cofounded=\"Udacity\", experience=\"Stanford Professor\")\n",
    "\n"
   ]
  },
  {
   "cell_type": "code",
   "execution_count": 29,
   "metadata": {},
   "outputs": [],
   "source": [
    "# Practice with map\n",
    "# Fill out the rest of the map functions.\n",
    "# You can define additional functions if you need to.\n",
    "# (a) [\"apple\", \"orange\", \"pear\"] => (5, 6, 4)  (length)\n",
    "# (b) [\"apple\", \"orange\", \"pear\"] => (\"APPLE\", \"ORANGE\", \"PEAR\")  (uppercase)\n",
    "# (c) [\"apple\", \"orange\", \"pear\"] => (\"elppa\", \"egnaro\", \"raep\")  (reversed)\n",
    "# (d) [\"apple\", \"orange\", \"pear\"] => (\"ap\", \"or\", \"pe\")  (first two letters)\n",
    "\n",
    "\n",
    "\n",
    "a = map(lambda x : len(x), [\"apple\", \"orange\", \"pear\"])\n",
    "b = map(lambda x : x.upper() , [\"apple\", \"orange\", \"pear\"])\n",
    "c = map(lambda x : x[::-1], [\"apple\", \"orange\", \"pear\"])\n",
    "d = map(lambda x : x[:2], [\"apple\", \"orange\", \"pear\"])"
   ]
  },
  {
   "cell_type": "code",
   "execution_count": 30,
   "metadata": {},
   "outputs": [
    {
     "name": "stdout",
     "output_type": "stream",
     "text": [
      "[5, 6, 4]\n",
      "['APPLE', 'ORANGE', 'PEAR']\n",
      "['elppa', 'egnaro', 'raep']\n",
      "['ap', 'or', 'pe']\n"
     ]
    }
   ],
   "source": [
    "print(list(a))\n",
    "print(list(b))\n",
    "print(list(c))\n",
    "print(list(d))"
   ]
  },
  {
   "cell_type": "code",
   "execution_count": 40,
   "metadata": {},
   "outputs": [],
   "source": [
    "# Practice with filter\n",
    "# Fill out the rest of the filter functions.\n",
    "# You can define additional functions if you need to.\n",
    "# (a) range(100) => (0, 3, 6, 9, ...)  (div by 3)\n",
    "# (b) range(100) => (0, 5, 10, 15, ...)  (div by 5)\n",
    "# (c) range(100) => (0, 15, 30, 45, ...)  (div by 15)\n",
    "# (d) range(100) => (1, 2, 4, 7, 8, 11, 13, 14, 16, 17, ...)  (not div by 3 and not div by 5)\n",
    "\n",
    "a = filter(lambda x : x%3 == 0, range(100)) \n",
    "b = filter(lambda x : x%5 == 0, range(100)) \n",
    "c = filter(lambda x : x%15 == 0   , range(100)) \n",
    "d = filter(lambda x : x%3 != 0 and  x%5 != 0   , range(100)) "
   ]
  },
  {
   "cell_type": "code",
   "execution_count": 41,
   "metadata": {},
   "outputs": [
    {
     "name": "stdout",
     "output_type": "stream",
     "text": [
      "[0, 3, 6, 9, 12, 15, 18, 21, 24, 27, 30, 33, 36, 39, 42, 45, 48, 51, 54, 57, 60, 63, 66, 69, 72, 75, 78, 81, 84, 87, 90, 93, 96, 99]\n",
      "[0, 5, 10, 15, 20, 25, 30, 35, 40, 45, 50, 55, 60, 65, 70, 75, 80, 85, 90, 95]\n",
      "[0, 15, 30, 45, 60, 75, 90]\n",
      "[1, 2, 4, 7, 8, 11, 13, 14, 16, 17, 19, 22, 23, 26, 28, 29, 31, 32, 34, 37, 38, 41, 43, 44, 46, 47, 49, 52, 53, 56, 58, 59, 61, 62, 64, 67, 68, 71, 73, 74, 76, 77, 79, 82, 83, 86, 88, 89, 91, 92, 94, 97, 98]\n"
     ]
    }
   ],
   "source": [
    "print(list(a))\n",
    "print(list(b))\n",
    "print(list(c))\n",
    "print(list(d))\n"
   ]
  },
  {
   "cell_type": "code",
   "execution_count": 39,
   "metadata": {},
   "outputs": [
    {
     "data": {
      "text/plain": [
       "[0,\n",
       " 3,\n",
       " 6,\n",
       " 9,\n",
       " 12,\n",
       " 15,\n",
       " 18,\n",
       " 21,\n",
       " 24,\n",
       " 27,\n",
       " 30,\n",
       " 33,\n",
       " 36,\n",
       " 39,\n",
       " 42,\n",
       " 45,\n",
       " 48,\n",
       " 51,\n",
       " 54,\n",
       " 57,\n",
       " 60,\n",
       " 63,\n",
       " 66,\n",
       " 69,\n",
       " 72,\n",
       " 75,\n",
       " 78,\n",
       " 81,\n",
       " 84,\n",
       " 87,\n",
       " 90,\n",
       " 93,\n",
       " 96,\n",
       " 99]"
      ]
     },
     "execution_count": 39,
     "metadata": {},
     "output_type": "execute_result"
    }
   ],
   "source": [
    "list(a)"
   ]
  },
  {
   "cell_type": "code",
   "execution_count": 42,
   "metadata": {},
   "outputs": [],
   "source": [
    "nine_is_a_square_with_map = 9 in map(lambda x: x ** 2, range(1000000))\n",
    "nine_is_a_square_with_listcomp = 9 in [x ** 2 for x in range(1000000)]"
   ]
  },
  {
   "cell_type": "code",
   "execution_count": 44,
   "metadata": {},
   "outputs": [
    {
     "data": {
      "text/plain": [
       "True"
      ]
     },
     "execution_count": 44,
     "metadata": {},
     "output_type": "execute_result"
    }
   ],
   "source": [
    "nine_is_a_square_with_listcomp"
   ]
  },
  {
   "cell_type": "markdown",
   "metadata": {},
   "source": [
    "## Generator Functions"
   ]
  },
  {
   "cell_type": "markdown",
   "metadata": {},
   "source": [
    "A `generator function` looks like a normal function, except it contains the keyword `yield`.\n",
    "\n",
    "When called, a generator function returns a generator iterator that can produce subsequent values on demand by running the function until it encounters a `yield` statement, and then pausing. In this way, generators are an advanced way to describe a stream of data.\n",
    "\n",
    "To build a generator function, define a function containing the `yield` keyword. To use it, call the generator function to get a generator iterator, and iterator over it to your heart's conten"
   ]
  },
  {
   "cell_type": "code",
   "execution_count": 45,
   "metadata": {},
   "outputs": [
    {
     "ename": "StopIteration",
     "evalue": "",
     "output_type": "error",
     "traceback": [
      "\u001b[1;31m---------------------------------------------------------------------------\u001b[0m",
      "\u001b[1;31mStopIteration\u001b[0m                             Traceback (most recent call last)",
      "\u001b[1;32m~\\AppData\\Local\\Temp/ipykernel_1160/2016445593.py\u001b[0m in \u001b[0;36m<module>\u001b[1;34m\u001b[0m\n\u001b[0;32m      9\u001b[0m \u001b[0mnext\u001b[0m\u001b[1;33m(\u001b[0m\u001b[0mg\u001b[0m\u001b[1;33m)\u001b[0m  \u001b[1;31m# => 1. Run until the next yield statement.\u001b[0m\u001b[1;33m\u001b[0m\u001b[1;33m\u001b[0m\u001b[0m\n\u001b[0;32m     10\u001b[0m \u001b[0mnext\u001b[0m\u001b[1;33m(\u001b[0m\u001b[0mg\u001b[0m\u001b[1;33m)\u001b[0m  \u001b[1;31m# => 2. Run until the next yield statement.\u001b[0m\u001b[1;33m\u001b[0m\u001b[1;33m\u001b[0m\u001b[0m\n\u001b[1;32m---> 11\u001b[1;33m \u001b[0mnext\u001b[0m\u001b[1;33m(\u001b[0m\u001b[0mg\u001b[0m\u001b[1;33m)\u001b[0m  \u001b[1;31m# raises StopIteration. Finished the function before finding another yield statement.\u001b[0m\u001b[1;33m\u001b[0m\u001b[1;33m\u001b[0m\u001b[0m\n\u001b[0m",
      "\u001b[1;31mStopIteration\u001b[0m: "
     ]
    }
   ],
   "source": [
    "def generate_ints(n):\n",
    "    for i in range(n):\n",
    "        yield i\n",
    "\n",
    "g = generate_ints(3)  # Doesn't start the function! Just sets up the iterator\n",
    "type(g)  # => <class 'generator'>\n",
    "\n",
    "next(g)  # => 0. Run until the next yield statement.\n",
    "next(g)  # => 1. Run until the next yield statement.\n",
    "next(g)  # => 2. Run until the next yield statement.\n",
    "next(g)  # raises StopIteration. Finished the function before finding another yield statement."
   ]
  },
  {
   "cell_type": "code",
   "execution_count": 47,
   "metadata": {},
   "outputs": [
    {
     "data": {
      "text/plain": [
       "5"
      ]
     },
     "execution_count": 47,
     "metadata": {},
     "output_type": "execute_result"
    }
   ],
   "source": [
    "def generate_fibs():\n",
    "    a, b = 0, 1\n",
    "    while True:\n",
    "        a, b = b, a + b\n",
    "        yield a\n",
    "\n",
    "g = generate_fibs()\n",
    "next(g)  # => 1\n",
    "next(g)  # => 1\n",
    "next(g)  # => 2\n",
    "next(g)  # => 3\n",
    "next(g)  # => 5\n",
    "# max(g)   # Don't run this line of code. What happens?"
   ]
  },
  {
   "cell_type": "code",
   "execution_count": 96,
   "metadata": {},
   "outputs": [],
   "source": [
    "def generate_tribonacci_numbers():\n",
    "    a, b, c = 0, 0, 1\n",
    "    while True:\n",
    "        yield a\n",
    "        a, b, c = b, c, a + b + c"
   ]
  },
  {
   "cell_type": "code",
   "execution_count": 97,
   "metadata": {},
   "outputs": [],
   "source": []
  },
  {
   "cell_type": "code",
   "execution_count": 104,
   "metadata": {},
   "outputs": [],
   "source": [
    "a,b,c = next(g) , next(g) ,next(g)"
   ]
  },
  {
   "cell_type": "code",
   "execution_count": 134,
   "metadata": {},
   "outputs": [],
   "source": [
    "def generate_tribonacci_numbers():\n",
    "    a, b, c = 0, 0, 1\n",
    "    # Yield an infinite stream of Tribonacci numbers! The next value of the sequence will be c + b + a.\n",
    "    while True : \n",
    "        yield a\n",
    "\n",
    "        a, b, c = b ,c , a+b+c # to essentially assign not sequentially"
   ]
  },
  {
   "cell_type": "code",
   "execution_count": 138,
   "metadata": {},
   "outputs": [],
   "source": [
    "def is_tribonacci(num):\n",
    "    \"\"\"Return whether `num` is a Tribonacci number.\"\"\"\n",
    "    # Be careful to not loop infinitely!\n",
    "    \n",
    "    for c in range(20): \n",
    "        a,b,c = next(num) , next(num) ,next(num)\n",
    "        if (a+b+c) != next(num): \n",
    "            return False \n",
    "\n",
    "    \n",
    "    return True"
   ]
  },
  {
   "cell_type": "code",
   "execution_count": 145,
   "metadata": {},
   "outputs": [],
   "source": [
    "import random\n",
    "\n",
    "def random_list(size, start=0, stop=10):\n",
    "    return list(random.randrange(start, stop) for _ in range(size))\n",
    "\n",
    "\n",
    "def generate_cases(): \n",
    "    l = 1 \n",
    "    while True :\n",
    "        yield random_list(l)\n",
    "        l += 1 "
   ]
  },
  {
   "cell_type": "code",
   "execution_count": 144,
   "metadata": {},
   "outputs": [
    {
     "data": {
      "text/plain": [
       "[1, 4, 1, 0, 3, 9, 1, 4, 5, 4, 7, 4, 3, 2, 0, 7, 3, 9, 1, 6]"
      ]
     },
     "execution_count": 144,
     "metadata": {},
     "output_type": "execute_result"
    }
   ],
   "source": []
  },
  {
   "cell_type": "code",
   "execution_count": 146,
   "metadata": {},
   "outputs": [
    {
     "name": "stdout",
     "output_type": "stream",
     "text": [
      "[4]\n",
      "[1, 2]\n",
      "[1, 8, 8]\n",
      "[9, 6, 8, 9]\n",
      "[5, 8, 5, 1, 9]\n",
      "[0, 0, 9, 1, 9, 2]\n",
      "[5, 6, 5, 1, 1, 8, 9]\n",
      "[1, 3, 2, 8, 0, 4, 7, 5]\n",
      "[9, 3, 3, 0, 3, 8, 5, 3, 7]\n",
      "[5, 6, 4, 2, 5, 5, 9, 1, 2, 3]\n"
     ]
    }
   ],
   "source": [
    "for case in generate_cases():\n",
    "    if len(case) > 10:\n",
    "        break\n",
    "    print(case)"
   ]
  },
  {
   "cell_type": "markdown",
   "metadata": {},
   "source": [
    "## The big idea "
   ]
  },
  {
   "cell_type": "markdown",
   "metadata": {},
   "source": [
    "If we can send functions as arguments, and we can produce functions and return values, can we do both?\n",
    "\n",
    "Yes – that's precisely what a decorator does."
   ]
  },
  {
   "cell_type": "markdown",
   "metadata": {},
   "source": []
  },
  {
   "cell_type": "code",
   "execution_count": null,
   "metadata": {},
   "outputs": [],
   "source": [
    "def print_args(function):\n",
    "    def wrapper(*args, **kwargs):\n",
    "        print(args, kwargs)\n",
    "        return function(*args, **kwargs)\n",
    "    return wrapper"
   ]
  },
  {
   "cell_type": "code",
   "execution_count": 158,
   "metadata": {},
   "outputs": [],
   "source": [
    "import functools\n",
    "import time \n",
    "\n",
    "def memoize(function):\n",
    "    @functools.wraps(function)\n",
    "    def wrapper(*args, **kwargs):\n",
    "        return function(*args, **kwargs)\n",
    "    return wrapper"
   ]
  },
  {
   "cell_type": "code",
   "execution_count": 159,
   "metadata": {},
   "outputs": [],
   "source": [
    "@memoize \n",
    "def long_operation(x, y):\n",
    "    time.sleep(5)   # Or some other suitable long expression.\n",
    "    return x + y\n"
   ]
  },
  {
   "cell_type": "code",
   "execution_count": 160,
   "metadata": {},
   "outputs": [
    {
     "data": {
      "text/plain": [
       "17"
      ]
     },
     "execution_count": 160,
     "metadata": {},
     "output_type": "execute_result"
    }
   ],
   "source": [
    "long_operation(5, 12)"
   ]
  },
  {
   "cell_type": "code",
   "execution_count": 161,
   "metadata": {},
   "outputs": [
    {
     "data": {
      "text/plain": [
       "'long_operation'"
      ]
     },
     "execution_count": 161,
     "metadata": {},
     "output_type": "execute_result"
    }
   ],
   "source": [
    "long_operation.__name__"
   ]
  },
  {
   "cell_type": "code",
   "execution_count": 162,
   "metadata": {},
   "outputs": [],
   "source": [
    "import functools\n",
    "\n",
    "def memoize(function):\n",
    "    @functools.wraps(function)\n",
    "    def wrapper(*args, **kwargs):\n",
    "        return function(*args, **kwargs)\n",
    "    return wrapper"
   ]
  },
  {
   "cell_type": "code",
   "execution_count": 165,
   "metadata": {},
   "outputs": [
    {
     "data": {
      "text/plain": [
       "55"
      ]
     },
     "execution_count": 165,
     "metadata": {},
     "output_type": "execute_result"
    }
   ],
   "source": [
    "@memoize\n",
    "def fib(n):\n",
    "    if n < 2:\n",
    "        return n\n",
    "    return fib(n-1) + fib(n-2)\n",
    "\n",
    "\n",
    "fib(10)\n"
   ]
  },
  {
   "cell_type": "code",
   "execution_count": 167,
   "metadata": {},
   "outputs": [],
   "source": [
    "def memoize(function):\n",
    "    function._cache = {}\n",
    "    @functools.wraps(function)\n",
    "    def wrapper(*args, **kwargs):\n",
    "        key = (args, tuple(kwargs.items()))\n",
    "        if key not in function._cache:\n",
    "            function._cache[key] = function(*args, **kwargs)\n",
    "        return function._cache[key]\n",
    "    return wrapper"
   ]
  },
  {
   "cell_type": "code",
   "execution_count": 170,
   "metadata": {},
   "outputs": [
    {
     "data": {
      "text/plain": [
       "222232244629420445529739893461909967206666939096499764990979600"
      ]
     },
     "execution_count": 170,
     "metadata": {},
     "output_type": "execute_result"
    }
   ],
   "source": [
    "@memoize\n",
    "def fib(n):\n",
    "    if n < 2:\n",
    "        return n\n",
    "    return fib(n-1) + fib(n-2)\n",
    "\n",
    "\n",
    "fib(300)"
   ]
  },
  {
   "cell_type": "code",
   "execution_count": 173,
   "metadata": {},
   "outputs": [
    {
     "data": {
      "text/plain": [
       "{((1,), ()): 1,\n",
       " ((0,), ()): 0,\n",
       " ((2,), ()): 1,\n",
       " ((3,), ()): 2,\n",
       " ((4,), ()): 3,\n",
       " ((5,), ()): 5,\n",
       " ((6,), ()): 8,\n",
       " ((7,), ()): 13,\n",
       " ((8,), ()): 21,\n",
       " ((9,), ()): 34,\n",
       " ((10,), ()): 55,\n",
       " ((11,), ()): 89,\n",
       " ((12,), ()): 144,\n",
       " ((13,), ()): 233,\n",
       " ((14,), ()): 377,\n",
       " ((15,), ()): 610,\n",
       " ((16,), ()): 987,\n",
       " ((17,), ()): 1597,\n",
       " ((18,), ()): 2584,\n",
       " ((19,), ()): 4181,\n",
       " ((20,), ()): 6765,\n",
       " ((21,), ()): 10946,\n",
       " ((22,), ()): 17711,\n",
       " ((23,), ()): 28657,\n",
       " ((24,), ()): 46368,\n",
       " ((25,), ()): 75025,\n",
       " ((26,), ()): 121393,\n",
       " ((27,), ()): 196418,\n",
       " ((28,), ()): 317811,\n",
       " ((29,), ()): 514229,\n",
       " ((30,), ()): 832040,\n",
       " ((31,), ()): 1346269,\n",
       " ((32,), ()): 2178309,\n",
       " ((33,), ()): 3524578,\n",
       " ((34,), ()): 5702887,\n",
       " ((35,), ()): 9227465,\n",
       " ((36,), ()): 14930352,\n",
       " ((37,), ()): 24157817,\n",
       " ((38,), ()): 39088169,\n",
       " ((39,), ()): 63245986,\n",
       " ((40,), ()): 102334155,\n",
       " ((41,), ()): 165580141,\n",
       " ((42,), ()): 267914296,\n",
       " ((43,), ()): 433494437,\n",
       " ((44,), ()): 701408733,\n",
       " ((45,), ()): 1134903170,\n",
       " ((46,), ()): 1836311903,\n",
       " ((47,), ()): 2971215073,\n",
       " ((48,), ()): 4807526976,\n",
       " ((49,), ()): 7778742049,\n",
       " ((50,), ()): 12586269025,\n",
       " ((51,), ()): 20365011074,\n",
       " ((52,), ()): 32951280099,\n",
       " ((53,), ()): 53316291173,\n",
       " ((54,), ()): 86267571272,\n",
       " ((55,), ()): 139583862445,\n",
       " ((56,), ()): 225851433717,\n",
       " ((57,), ()): 365435296162,\n",
       " ((58,), ()): 591286729879,\n",
       " ((59,), ()): 956722026041,\n",
       " ((60,), ()): 1548008755920,\n",
       " ((61,), ()): 2504730781961,\n",
       " ((62,), ()): 4052739537881,\n",
       " ((63,), ()): 6557470319842,\n",
       " ((64,), ()): 10610209857723,\n",
       " ((65,), ()): 17167680177565,\n",
       " ((66,), ()): 27777890035288,\n",
       " ((67,), ()): 44945570212853,\n",
       " ((68,), ()): 72723460248141,\n",
       " ((69,), ()): 117669030460994,\n",
       " ((70,), ()): 190392490709135,\n",
       " ((71,), ()): 308061521170129,\n",
       " ((72,), ()): 498454011879264,\n",
       " ((73,), ()): 806515533049393,\n",
       " ((74,), ()): 1304969544928657,\n",
       " ((75,), ()): 2111485077978050,\n",
       " ((76,), ()): 3416454622906707,\n",
       " ((77,), ()): 5527939700884757,\n",
       " ((78,), ()): 8944394323791464,\n",
       " ((79,), ()): 14472334024676221,\n",
       " ((80,), ()): 23416728348467685,\n",
       " ((81,), ()): 37889062373143906,\n",
       " ((82,), ()): 61305790721611591,\n",
       " ((83,), ()): 99194853094755497,\n",
       " ((84,), ()): 160500643816367088,\n",
       " ((85,), ()): 259695496911122585,\n",
       " ((86,), ()): 420196140727489673,\n",
       " ((87,), ()): 679891637638612258,\n",
       " ((88,), ()): 1100087778366101931,\n",
       " ((89,), ()): 1779979416004714189,\n",
       " ((90,), ()): 2880067194370816120,\n",
       " ((91,), ()): 4660046610375530309,\n",
       " ((92,), ()): 7540113804746346429,\n",
       " ((93,), ()): 12200160415121876738,\n",
       " ((94,), ()): 19740274219868223167,\n",
       " ((95,), ()): 31940434634990099905,\n",
       " ((96,), ()): 51680708854858323072,\n",
       " ((97,), ()): 83621143489848422977,\n",
       " ((98,), ()): 135301852344706746049,\n",
       " ((99,), ()): 218922995834555169026,\n",
       " ((100,), ()): 354224848179261915075,\n",
       " ((101,), ()): 573147844013817084101,\n",
       " ((102,), ()): 927372692193078999176,\n",
       " ((103,), ()): 1500520536206896083277,\n",
       " ((104,), ()): 2427893228399975082453,\n",
       " ((105,), ()): 3928413764606871165730,\n",
       " ((106,), ()): 6356306993006846248183,\n",
       " ((107,), ()): 10284720757613717413913,\n",
       " ((108,), ()): 16641027750620563662096,\n",
       " ((109,), ()): 26925748508234281076009,\n",
       " ((110,), ()): 43566776258854844738105,\n",
       " ((111,), ()): 70492524767089125814114,\n",
       " ((112,), ()): 114059301025943970552219,\n",
       " ((113,), ()): 184551825793033096366333,\n",
       " ((114,), ()): 298611126818977066918552,\n",
       " ((115,), ()): 483162952612010163284885,\n",
       " ((116,), ()): 781774079430987230203437,\n",
       " ((117,), ()): 1264937032042997393488322,\n",
       " ((118,), ()): 2046711111473984623691759,\n",
       " ((119,), ()): 3311648143516982017180081,\n",
       " ((120,), ()): 5358359254990966640871840,\n",
       " ((121,), ()): 8670007398507948658051921,\n",
       " ((122,), ()): 14028366653498915298923761,\n",
       " ((123,), ()): 22698374052006863956975682,\n",
       " ((124,), ()): 36726740705505779255899443,\n",
       " ((125,), ()): 59425114757512643212875125,\n",
       " ((126,), ()): 96151855463018422468774568,\n",
       " ((127,), ()): 155576970220531065681649693,\n",
       " ((128,), ()): 251728825683549488150424261,\n",
       " ((129,), ()): 407305795904080553832073954,\n",
       " ((130,), ()): 659034621587630041982498215,\n",
       " ((131,), ()): 1066340417491710595814572169,\n",
       " ((132,), ()): 1725375039079340637797070384,\n",
       " ((133,), ()): 2791715456571051233611642553,\n",
       " ((134,), ()): 4517090495650391871408712937,\n",
       " ((135,), ()): 7308805952221443105020355490,\n",
       " ((136,), ()): 11825896447871834976429068427,\n",
       " ((137,), ()): 19134702400093278081449423917,\n",
       " ((138,), ()): 30960598847965113057878492344,\n",
       " ((139,), ()): 50095301248058391139327916261,\n",
       " ((140,), ()): 81055900096023504197206408605,\n",
       " ((141,), ()): 131151201344081895336534324866,\n",
       " ((142,), ()): 212207101440105399533740733471,\n",
       " ((143,), ()): 343358302784187294870275058337,\n",
       " ((144,), ()): 555565404224292694404015791808,\n",
       " ((145,), ()): 898923707008479989274290850145,\n",
       " ((146,), ()): 1454489111232772683678306641953,\n",
       " ((147,), ()): 2353412818241252672952597492098,\n",
       " ((148,), ()): 3807901929474025356630904134051,\n",
       " ((149,), ()): 6161314747715278029583501626149,\n",
       " ((150,), ()): 9969216677189303386214405760200,\n",
       " ((151,), ()): 16130531424904581415797907386349,\n",
       " ((152,), ()): 26099748102093884802012313146549,\n",
       " ((153,), ()): 42230279526998466217810220532898,\n",
       " ((154,), ()): 68330027629092351019822533679447,\n",
       " ((155,), ()): 110560307156090817237632754212345,\n",
       " ((156,), ()): 178890334785183168257455287891792,\n",
       " ((157,), ()): 289450641941273985495088042104137,\n",
       " ((158,), ()): 468340976726457153752543329995929,\n",
       " ((159,), ()): 757791618667731139247631372100066,\n",
       " ((160,), ()): 1226132595394188293000174702095995,\n",
       " ((161,), ()): 1983924214061919432247806074196061,\n",
       " ((162,), ()): 3210056809456107725247980776292056,\n",
       " ((163,), ()): 5193981023518027157495786850488117,\n",
       " ((164,), ()): 8404037832974134882743767626780173,\n",
       " ((165,), ()): 13598018856492162040239554477268290,\n",
       " ((166,), ()): 22002056689466296922983322104048463,\n",
       " ((167,), ()): 35600075545958458963222876581316753,\n",
       " ((168,), ()): 57602132235424755886206198685365216,\n",
       " ((169,), ()): 93202207781383214849429075266681969,\n",
       " ((170,), ()): 150804340016807970735635273952047185,\n",
       " ((171,), ()): 244006547798191185585064349218729154,\n",
       " ((172,), ()): 394810887814999156320699623170776339,\n",
       " ((173,), ()): 638817435613190341905763972389505493,\n",
       " ((174,), ()): 1033628323428189498226463595560281832,\n",
       " ((175,), ()): 1672445759041379840132227567949787325,\n",
       " ((176,), ()): 2706074082469569338358691163510069157,\n",
       " ((177,), ()): 4378519841510949178490918731459856482,\n",
       " ((178,), ()): 7084593923980518516849609894969925639,\n",
       " ((179,), ()): 11463113765491467695340528626429782121,\n",
       " ((180,), ()): 18547707689471986212190138521399707760,\n",
       " ((181,), ()): 30010821454963453907530667147829489881,\n",
       " ((182,), ()): 48558529144435440119720805669229197641,\n",
       " ((183,), ()): 78569350599398894027251472817058687522,\n",
       " ((184,), ()): 127127879743834334146972278486287885163,\n",
       " ((185,), ()): 205697230343233228174223751303346572685,\n",
       " ((186,), ()): 332825110087067562321196029789634457848,\n",
       " ((187,), ()): 538522340430300790495419781092981030533,\n",
       " ((188,), ()): 871347450517368352816615810882615488381,\n",
       " ((189,), ()): 1409869790947669143312035591975596518914,\n",
       " ((190,), ()): 2281217241465037496128651402858212007295,\n",
       " ((191,), ()): 3691087032412706639440686994833808526209,\n",
       " ((192,), ()): 5972304273877744135569338397692020533504,\n",
       " ((193,), ()): 9663391306290450775010025392525829059713,\n",
       " ((194,), ()): 15635695580168194910579363790217849593217,\n",
       " ((195,), ()): 25299086886458645685589389182743678652930,\n",
       " ((196,), ()): 40934782466626840596168752972961528246147,\n",
       " ((197,), ()): 66233869353085486281758142155705206899077,\n",
       " ((198,), ()): 107168651819712326877926895128666735145224,\n",
       " ((199,), ()): 173402521172797813159685037284371942044301,\n",
       " ((200,), ()): 280571172992510140037611932413038677189525,\n",
       " ((201,), ()): 453973694165307953197296969697410619233826,\n",
       " ((202,), ()): 734544867157818093234908902110449296423351,\n",
       " ((203,), ()): 1188518561323126046432205871807859915657177,\n",
       " ((204,), ()): 1923063428480944139667114773918309212080528,\n",
       " ((205,), ()): 3111581989804070186099320645726169127737705,\n",
       " ((206,), ()): 5034645418285014325766435419644478339818233,\n",
       " ((207,), ()): 8146227408089084511865756065370647467555938,\n",
       " ((208,), ()): 13180872826374098837632191485015125807374171,\n",
       " ((209,), ()): 21327100234463183349497947550385773274930109,\n",
       " ((210,), ()): 34507973060837282187130139035400899082304280,\n",
       " ((211,), ()): 55835073295300465536628086585786672357234389,\n",
       " ((212,), ()): 90343046356137747723758225621187571439538669,\n",
       " ((213,), ()): 146178119651438213260386312206974243796773058,\n",
       " ((214,), ()): 236521166007575960984144537828161815236311727,\n",
       " ((215,), ()): 382699285659014174244530850035136059033084785,\n",
       " ((216,), ()): 619220451666590135228675387863297874269396512,\n",
       " ((217,), ()): 1001919737325604309473206237898433933302481297,\n",
       " ((218,), ()): 1621140188992194444701881625761731807571877809,\n",
       " ((219,), ()): 2623059926317798754175087863660165740874359106,\n",
       " ((220,), ()): 4244200115309993198876969489421897548446236915,\n",
       " ((221,), ()): 6867260041627791953052057353082063289320596021,\n",
       " ((222,), ()): 11111460156937785151929026842503960837766832936,\n",
       " ((223,), ()): 17978720198565577104981084195586024127087428957,\n",
       " ((224,), ()): 29090180355503362256910111038089984964854261893,\n",
       " ((225,), ()): 47068900554068939361891195233676009091941690850,\n",
       " ((226,), ()): 76159080909572301618801306271765994056795952743,\n",
       " ((227,), ()): 123227981463641240980692501505442003148737643593,\n",
       " ((228,), ()): 199387062373213542599493807777207997205533596336,\n",
       " ((229,), ()): 322615043836854783580186309282650000354271239929,\n",
       " ((230,), ()): 522002106210068326179680117059857997559804836265,\n",
       " ((231,), ()): 844617150046923109759866426342507997914076076194,\n",
       " ((232,), ()): 1366619256256991435939546543402365995473880912459,\n",
       " ((233,), ()): 2211236406303914545699412969744873993387956988653,\n",
       " ((234,), ()): 3577855662560905981638959513147239988861837901112,\n",
       " ((235,), ()): 5789092068864820527338372482892113982249794889765,\n",
       " ((236,), ()): 9366947731425726508977331996039353971111632790877,\n",
       " ((237,), ()): 15156039800290547036315704478931467953361427680642,\n",
       " ((238,), ()): 24522987531716273545293036474970821924473060471519,\n",
       " ((239,), ()): 39679027332006820581608740953902289877834488152161,\n",
       " ((240,), ()): 64202014863723094126901777428873111802307548623680,\n",
       " ((241,), ()): 103881042195729914708510518382775401680142036775841,\n",
       " ((242,), ()): 168083057059453008835412295811648513482449585399521,\n",
       " ((243,), ()): 271964099255182923543922814194423915162591622175362,\n",
       " ((244,), ()): 440047156314635932379335110006072428645041207574883,\n",
       " ((245,), ()): 712011255569818855923257924200496343807632829750245,\n",
       " ((246,), ()): 1152058411884454788302593034206568772452674037325128,\n",
       " ((247,), ()): 1864069667454273644225850958407065116260306867075373,\n",
       " ((248,), ()): 3016128079338728432528443992613633888712980904400501,\n",
       " ((249,), ()): 4880197746793002076754294951020699004973287771475874,\n",
       " ((250,), ()): 7896325826131730509282738943634332893686268675876375,\n",
       " ((251,), ()): 12776523572924732586037033894655031898659556447352249,\n",
       " ((252,), ()): 20672849399056463095319772838289364792345825123228624,\n",
       " ((253,), ()): 33449372971981195681356806732944396691005381570580873,\n",
       " ((254,), ()): 54122222371037658776676579571233761483351206693809497,\n",
       " ((255,), ()): 87571595343018854458033386304178158174356588264390370,\n",
       " ((256,), ()): 141693817714056513234709965875411919657707794958199867,\n",
       " ((257,), ()): 229265413057075367692743352179590077832064383222590237,\n",
       " ((258,), ()): 370959230771131880927453318055001997489772178180790104,\n",
       " ((259,), ()): 600224643828207248620196670234592075321836561403380341,\n",
       " ((260,), ()): 971183874599339129547649988289594072811608739584170445,\n",
       " ((261,), ()): 1571408518427546378167846658524186148133445300987550786,\n",
       " ((262,), ()): 2542592393026885507715496646813780220945054040571721231,\n",
       " ((263,), ()): 4114000911454431885883343305337966369078499341559272017,\n",
       " ((264,), ()): 6656593304481317393598839952151746590023553382130993248,\n",
       " ((265,), ()): 10770594215935749279482183257489712959102052723690265265,\n",
       " ((266,), ()): 17427187520417066673081023209641459549125606105821258513,\n",
       " ((267,), ()): 28197781736352815952563206467131172508227658829511523778,\n",
       " ((268,), ()): 45624969256769882625644229676772632057353264935332782291,\n",
       " ((269,), ()): 73822750993122698578207436143903804565580923764844306069,\n",
       " ((270,), ()): 119447720249892581203851665820676436622934188700177088360,\n",
       " ((271,), ()): 193270471243015279782059101964580241188515112465021394429,\n",
       " ((272,), ()): 312718191492907860985910767785256677811449301165198482789,\n",
       " ((273,), ()): 505988662735923140767969869749836918999964413630219877218,\n",
       " ((274,), ()): 818706854228831001753880637535093596811413714795418360007,\n",
       " ((275,), ()): 1324695516964754142521850507284930515811378128425638237225,\n",
       " ((276,), ()): 2143402371193585144275731144820024112622791843221056597232,\n",
       " ((277,), ()): 3468097888158339286797581652104954628434169971646694834457,\n",
       " ((278,), ()): 5611500259351924431073312796924978741056961814867751431689,\n",
       " ((279,), ()): 9079598147510263717870894449029933369491131786514446266146,\n",
       " ((280,), ()): 14691098406862188148944207245954912110548093601382197697835,\n",
       " ((281,), ()): 23770696554372451866815101694984845480039225387896643963981,\n",
       " ((282,), ()): 38461794961234640015759308940939757590587318989278841661816,\n",
       " ((283,), ()): 62232491515607091882574410635924603070626544377175485625797,\n",
       " ((284,), ()): 100694286476841731898333719576864360661213863366454327287613,\n",
       " ((285,), ()): 162926777992448823780908130212788963731840407743629812913410,\n",
       " ((286,), ()): 263621064469290555679241849789653324393054271110084140201023,\n",
       " ((287,), ()): 426547842461739379460149980002442288124894678853713953114433,\n",
       " ((288,), ()): 690168906931029935139391829792095612517948949963798093315456,\n",
       " ((289,), ()): 1116716749392769314599541809794537900642843628817512046429889,\n",
       " ((290,), ()): 1806885656323799249738933639586633513160792578781310139745345,\n",
       " ((291,), ()): 2923602405716568564338475449381171413803636207598822186175234,\n",
       " ((292,), ()): 4730488062040367814077409088967804926964428786380132325920579,\n",
       " ((293,), ()): 7654090467756936378415884538348976340768064993978954512095813,\n",
       " ((294,), ()): 12384578529797304192493293627316781267732493780359086838016392,\n",
       " ((295,), ()): 20038668997554240570909178165665757608500558774338041350112205,\n",
       " ((296,), ()): 32423247527351544763402471792982538876233052554697128188128597,\n",
       " ((297,), ()): 52461916524905785334311649958648296484733611329035169538240802,\n",
       " ((298,), ()): 84885164052257330097714121751630835360966663883732297726369399,\n",
       " ((299,), ()): 137347080577163115432025771710279131845700275212767467264610201,\n",
       " ((300,), ()): 222232244629420445529739893461909967206666939096499764990979600}"
      ]
     },
     "execution_count": 173,
     "metadata": {},
     "output_type": "execute_result"
    }
   ],
   "source": [
    "fib._cache"
   ]
  },
  {
   "cell_type": "markdown",
   "metadata": {},
   "source": [
    "This is a challenging exercise!\n",
    "\n",
    "We'll define a decorator factory - a function that, when called, produces a decorator function that can change the behavior of a specific function.\n",
    "\n",
    "The check_types decorator factory first checks its severity argument - if the severity is zero, it returns the do-nothing decorator (a lambda function that takes in a function and returns it, unmodified). Otherwise, it defines a message function that reports an error to different levels of severity, printing a message at a severity of 1 and otherwise raising a TypeError.\n",
    "\n",
    "Next, we move on to the actual decorator checker. This expects one argument - a function to decorate - and will build and return a modification of this function. First, this decorator extracts the type annotations from the function and asserts that they are all types (not all annotations need to be types, in general). With no annotations, this decorator won't modify the function. Otherwise, it defines an inner function wrapper that `@functools.wraps` the supplied function, taking in an arbitrary number of positional or keyword arguments.\n",
    "\n",
    "This wrapper function gets the names of each argument by binding them and then checks the argument names against the expected type annotations, messaging if there was a mismatch. Next, it computes the return value by forwarding the arguments to the wrapped function and checks the type of the return value.\n",
    "\n",
    "Finally, the wrapper function returns the return value, the checker decorator function returns the wrapper function, and the check_types function returns the checker decorator function.\n",
    "\n",
    "This is a lot of complexity for not too many lines of code! It's a testament to the power of functional programming and design that a tool as powerful and general as a runtime type checker for any function can be implemented so succinctly."
   ]
  },
  {
   "cell_type": "code",
   "execution_count": 18,
   "metadata": {},
   "outputs": [],
   "source": [
    "import inspect\n",
    "import functools\n",
    "def bind_args(function, *args, **kwargs):\n",
    "    return inspect.signature(function).bind(*args, **kwargs).arguments\n",
    "\n",
    "def check_types(severity=1):\n",
    "    if severity == 0:\n",
    "        return lambda function: function\n",
    "\n",
    "    def message(msg):\n",
    "        if severity == 1:\n",
    "            print(msg)\n",
    "        else:\n",
    "            raise TypeError(msg)\n",
    "    def checker(function):\n",
    "        expected = function.__annotations__\n",
    "\n",
    "        assert(all(map(lambda exp: isinstance(exp, type), expected.values())))\n",
    "        if not expected:\n",
    "            return function\n",
    "        @functools.wraps(function)\n",
    "        def wrapper(*args, **kwargs):\n",
    "            bound_arguments = bind_args(function, *args, **kwargs)\n",
    "            print(bound_arguments)\n",
    "            for arg, val in bound_arguments.items():\n",
    "                if arg not in expected:\n",
    "                    continue\n",
    "                if not isinstance(val, expected[arg]):\n",
    "                    message(f\"Bad Argument! Received {arg}={val}, expecting object of type {expected[arg]}\")\n",
    "            retval = function(*args, **kwargs)\n",
    "            if 'return' in expected and not isinstance(retval, expected['return']):\n",
    "                message(f\"Bad Return Value! Received {retval}, but expected value of type {expected['return']}\")\n",
    "            return retval\n",
    "        return wrapper\n",
    "    return checker"
   ]
  },
  {
   "cell_type": "code",
   "execution_count": 21,
   "metadata": {},
   "outputs": [],
   "source": [
    "@check_types(severity=2)\n",
    "def foo(a: int, b: str) -> bool:\n",
    "    return b[a] == 'X'"
   ]
  },
  {
   "cell_type": "code",
   "execution_count": 22,
   "metadata": {},
   "outputs": [
    {
     "name": "stdout",
     "output_type": "stream",
     "text": [
      "{'a': 5, 'b': 'this is string'}\n"
     ]
    },
    {
     "data": {
      "text/plain": [
       "False"
      ]
     },
     "execution_count": 22,
     "metadata": {},
     "output_type": "execute_result"
    }
   ],
   "source": [
    "foo(5 , \"this is string\")"
   ]
  },
  {
   "cell_type": "code",
   "execution_count": 20,
   "metadata": {},
   "outputs": [],
   "source": [
    "@check_types(severity=2)\n",
    "def foo(a: int, b: str) -> bool:\n",
    "    return b[a] == 'X'"
   ]
  },
  {
   "cell_type": "markdown",
   "metadata": {},
   "source": []
  }
 ],
 "metadata": {
  "interpreter": {
   "hash": "7a9b25cab5cf87515b1aea335a4811a28e597febd6b2721560b12340e00708cd"
  },
  "kernelspec": {
   "display_name": "Python 3.9.7 ('base')",
   "language": "python",
   "name": "python3"
  },
  "language_info": {
   "codemirror_mode": {
    "name": "ipython",
    "version": 3
   },
   "file_extension": ".py",
   "mimetype": "text/x-python",
   "name": "python",
   "nbconvert_exporter": "python",
   "pygments_lexer": "ipython3",
   "version": "3.9.7"
  },
  "orig_nbformat": 4
 },
 "nbformat": 4,
 "nbformat_minor": 2
}
