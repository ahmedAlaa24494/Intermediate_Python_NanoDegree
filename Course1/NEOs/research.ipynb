{
 "cells": [
  {
   "cell_type": "code",
   "execution_count": 1,
   "metadata": {},
   "outputs": [],
   "source": [
    "import json \n",
    "import pandas as pd "
   ]
  },
  {
   "cell_type": "code",
   "execution_count": 2,
   "metadata": {},
   "outputs": [],
   "source": [
    "neos = pd.read_csv('data/neos.csv' , low_memory=False)"
   ]
  },
  {
   "cell_type": "code",
   "execution_count": 3,
   "metadata": {},
   "outputs": [
    {
     "name": "stdout",
     "output_type": "stream",
     "text": [
      "<class 'pandas.core.frame.DataFrame'>\n",
      "RangeIndex: 23967 entries, 0 to 23966\n",
      "Data columns (total 75 columns):\n",
      " #   Column          Non-Null Count  Dtype  \n",
      "---  ------          --------------  -----  \n",
      " 0   id              23967 non-null  object \n",
      " 1   spkid           23967 non-null  int64  \n",
      " 2   full_name       23967 non-null  object \n",
      " 3   pdes            23967 non-null  object \n",
      " 4   name            343 non-null    object \n",
      " 5   prefix          184 non-null    object \n",
      " 6   neo             23967 non-null  object \n",
      " 7   pha             23779 non-null  object \n",
      " 8   H               23774 non-null  float64\n",
      " 9   G               13 non-null     float64\n",
      " 10  M1              126 non-null    float64\n",
      " 11  M2              54 non-null     float64\n",
      " 12  K1              126 non-null    float64\n",
      " 13  K2              54 non-null     float64\n",
      " 14  PC              36 non-null     float64\n",
      " 15  diameter        1268 non-null   float64\n",
      " 16  extent          10 non-null     object \n",
      " 17  albedo          1208 non-null   float64\n",
      " 18  rot_per         1679 non-null   float64\n",
      " 19  GM              4 non-null      float64\n",
      " 20  BV              38 non-null     float64\n",
      " 21  UB              38 non-null     float64\n",
      " 22  IR              1 non-null      float64\n",
      " 23  spec_B          313 non-null    object \n",
      " 24  spec_T          36 non-null     object \n",
      " 25  H_sigma         5682 non-null   float64\n",
      " 26  diameter_sigma  1162 non-null   float64\n",
      " 27  orbit_id        23967 non-null  object \n",
      " 28  epoch           23967 non-null  float64\n",
      " 29  epoch_mjd       23967 non-null  float64\n",
      " 30  epoch_cal       23967 non-null  float64\n",
      " 31  equinox         23967 non-null  object \n",
      " 32  e               23967 non-null  float64\n",
      " 33  a               23967 non-null  float64\n",
      " 34  q               23967 non-null  float64\n",
      " 35  i               23967 non-null  float64\n",
      " 36  om              23967 non-null  float64\n",
      " 37  w               23967 non-null  float64\n",
      " 38  ma              23967 non-null  float64\n",
      " 39  ad              23967 non-null  float64\n",
      " 40  n               23967 non-null  float64\n",
      " 41  tp              23967 non-null  float64\n",
      " 42  tp_cal          23967 non-null  float64\n",
      " 43  per             23967 non-null  float64\n",
      " 44  per_y           23967 non-null  float64\n",
      " 45  moid            23952 non-null  float64\n",
      " 46  moid_ld         23952 non-null  float64\n",
      " 47  moid_jup        23845 non-null  float64\n",
      " 48  t_jup           23967 non-null  float64\n",
      " 49  sigma_e         23950 non-null  float64\n",
      " 50  sigma_a         23950 non-null  float64\n",
      " 51  sigma_q         23950 non-null  float64\n",
      " 52  sigma_i         23950 non-null  float64\n",
      " 53  sigma_om        23950 non-null  float64\n",
      " 54  sigma_w         23950 non-null  float64\n",
      " 55  sigma_ma        23950 non-null  float64\n",
      " 56  sigma_ad        23950 non-null  float64\n",
      " 57  sigma_n         23950 non-null  float64\n",
      " 58  sigma_tp        23950 non-null  float64\n",
      " 59  sigma_per       23950 non-null  float64\n",
      " 60  class           23967 non-null  object \n",
      " 61  producer        23967 non-null  object \n",
      " 62  data_arc        23746 non-null  float64\n",
      " 63  first_obs       23965 non-null  object \n",
      " 64  last_obs        23965 non-null  object \n",
      " 65  n_obs_used      23967 non-null  int64  \n",
      " 66  n_del_obs_used  924 non-null    float64\n",
      " 67  n_dop_obs_used  924 non-null    float64\n",
      " 68  condition_code  23950 non-null  float64\n",
      " 69  rms             23954 non-null  float64\n",
      " 70  two_body        15 non-null     object \n",
      " 71  A1              54 non-null     float64\n",
      " 72  A2              177 non-null    float64\n",
      " 73  A3              15 non-null     float64\n",
      " 74  DT              6 non-null      float64\n",
      "dtypes: float64(56), int64(2), object(17)\n",
      "memory usage: 13.7+ MB\n"
     ]
    }
   ],
   "source": [
    "neos.info() \n"
   ]
  },
  {
   "cell_type": "code",
   "execution_count": 9,
   "metadata": {},
   "outputs": [],
   "source": [
    "with open('data/cad.json', \"r\") as f:\n",
    "    reader = json.load(f)\n",
    "    reader = [dict(zip(reader[\"fields\"], data)) for data in reader[\"data\"]]\n"
   ]
  },
  {
   "cell_type": "code",
   "execution_count": 8,
   "metadata": {},
   "outputs": [
    {
     "data": {
      "text/plain": [
       "True"
      ]
     },
     "execution_count": 8,
     "metadata": {},
     "output_type": "execute_result"
    }
   ],
   "source": [
    "neos.pdes.unique().shape[0] == len(neos)\n"
   ]
  },
  {
   "cell_type": "code",
   "execution_count": null,
   "metadata": {},
   "outputs": [],
   "source": []
  }
 ],
 "metadata": {
  "interpreter": {
   "hash": "b480faa8246fe4c6b74d0d9fc3b6d38aeb42a068cd8fb11e4c3f49d451259f48"
  },
  "kernelspec": {
   "display_name": "Python 3.8.5 ('base')",
   "language": "python",
   "name": "python3"
  },
  "language_info": {
   "codemirror_mode": {
    "name": "ipython",
    "version": 3
   },
   "file_extension": ".py",
   "mimetype": "text/x-python",
   "name": "python",
   "nbconvert_exporter": "python",
   "pygments_lexer": "ipython3",
   "version": "3.8.5"
  },
  "orig_nbformat": 4
 },
 "nbformat": 4,
 "nbformat_minor": 2
}
