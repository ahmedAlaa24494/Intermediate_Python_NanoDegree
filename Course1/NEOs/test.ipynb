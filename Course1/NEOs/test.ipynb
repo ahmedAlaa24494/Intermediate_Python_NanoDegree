{
 "cells": [
  {
   "cell_type": "code",
   "execution_count": 1,
   "metadata": {},
   "outputs": [],
   "source": [
    "import pathlib\n",
    "import math\n",
    "import unittest\n",
    "\n",
    "\n",
    "from extract import load_neos, load_approaches\n",
    "from database import NEODatabase\n",
    "from filters import create_filters\n",
    "\n",
    "# Paths to the test data files.\n",
    "\n",
    "TEST_NEO_FILE =  'test/test-neos-2020.csv'\n",
    "TEST_CAD_FILE =  'test/test-cad-2020.json'\n"
   ]
  },
  {
   "cell_type": "code",
   "execution_count": 2,
   "metadata": {},
   "outputs": [],
   "source": [
    "tester = unittest.TestCase()"
   ]
  },
  {
   "cell_type": "code",
   "execution_count": 3,
   "metadata": {},
   "outputs": [],
   "source": [
    "neos = load_neos(TEST_NEO_FILE)\n",
    "approaches = load_approaches(TEST_CAD_FILE)\n",
    "db = NEODatabase(neos, approaches)"
   ]
  },
  {
   "cell_type": "code",
   "execution_count": 4,
   "metadata": {},
   "outputs": [
    {
     "data": {
      "text/plain": [
       "datetime.date(2020, 1, 1)"
      ]
     },
     "execution_count": 4,
     "metadata": {},
     "output_type": "execute_result"
    }
   ],
   "source": [
    "approaches[0].time.date()"
   ]
  },
  {
   "cell_type": "code",
   "execution_count": 5,
   "metadata": {},
   "outputs": [
    {
     "data": {
      "text/plain": [
       "0.0211660525256395"
      ]
     },
     "execution_count": 5,
     "metadata": {},
     "output_type": "execute_result"
    }
   ],
   "source": [
    "approaches[0].distance"
   ]
  },
  {
   "cell_type": "code",
   "execution_count": 6,
   "metadata": {},
   "outputs": [],
   "source": [
    "import itertools"
   ]
  },
  {
   "cell_type": "code",
   "execution_count": 7,
   "metadata": {},
   "outputs": [],
   "source": [
    "filters = create_filters()"
   ]
  },
  {
   "cell_type": "code",
   "execution_count": 8,
   "metadata": {},
   "outputs": [],
   "source": [
    "received = set(db.query(filters))"
   ]
  },
  {
   "cell_type": "code",
   "execution_count": 9,
   "metadata": {},
   "outputs": [
    {
     "data": {
      "text/plain": [
       "4700"
      ]
     },
     "execution_count": 9,
     "metadata": {},
     "output_type": "execute_result"
    }
   ],
   "source": [
    "len(received)"
   ]
  },
  {
   "cell_type": "code",
   "execution_count": 10,
   "metadata": {},
   "outputs": [],
   "source": [
    "expected = set(approaches)\n",
    "tester.assertGreater(len(expected), 0)\n",
    "\n",
    "filters = create_filters()\n",
    "received = set(db.query(filters))\n",
    "tester.assertEqual(expected, received, msg=\"Computed results do not match expected results.\")\n"
   ]
  },
  {
   "cell_type": "code",
   "execution_count": 41,
   "metadata": {},
   "outputs": [],
   "source": [
    "import datetime \n",
    "date = datetime.date(2020, 3, 2)\n",
    "\n",
    "expected = set(\n",
    "approach for approach in approaches\n",
    "if approach.time.date() == date\n",
    ")\n",
    "tester.assertGreater(len(expected), 0)\n",
    "date = datetime.date(2020, 3, 2)\n",
    "filters = create_filters(date=date)\n",
    "received = set(db.query(filters))\n",
    "# tester.assertEqual(expected, received, msg=\"Computed results do not match expected results.\")"
   ]
  },
  {
   "cell_type": "code",
   "execution_count": 42,
   "metadata": {},
   "outputs": [
    {
     "data": {
      "text/plain": [
       "{'date': Filter_By_Date(op=operator.eq, value=2020-03-02)}"
      ]
     },
     "execution_count": 42,
     "metadata": {},
     "output_type": "execute_result"
    }
   ],
   "source": [
    "filters"
   ]
  },
  {
   "cell_type": "code",
   "execution_count": 43,
   "metadata": {},
   "outputs": [
    {
     "data": {
      "text/plain": [
       "[False]"
      ]
     },
     "execution_count": 43,
     "metadata": {},
     "output_type": "execute_result"
    }
   ],
   "source": [
    "date = datetime.date(2020, 1, 1)\n",
    "filters = create_filters(date=date)\n",
    "for approach in approaches : \n",
    "    f_out= []\n",
    "\n",
    "    for k,f in filters.items(): \n",
    "        f_out.append(f(approach))\n",
    "    break\n",
    "\n",
    "f_out"
   ]
  },
  {
   "cell_type": "code",
   "execution_count": 32,
   "metadata": {},
   "outputs": [
    {
     "data": {
      "text/plain": [
       "{'date': Filter_By_Date(op=operator.eq, value=2020-01-01)}"
      ]
     },
     "execution_count": 32,
     "metadata": {},
     "output_type": "execute_result"
    }
   ],
   "source": [
    "filters"
   ]
  },
  {
   "cell_type": "code",
   "execution_count": 36,
   "metadata": {},
   "outputs": [
    {
     "data": {
      "text/plain": [
       "datetime.date(2020, 1, 1)"
      ]
     },
     "execution_count": 36,
     "metadata": {},
     "output_type": "execute_result"
    }
   ],
   "source": [
    "approaches[0].time.date()"
   ]
  },
  {
   "cell_type": "code",
   "execution_count": 21,
   "metadata": {},
   "outputs": [
    {
     "data": {
      "text/plain": [
       "['what', 'is', 'that']"
      ]
     },
     "execution_count": 21,
     "metadata": {},
     "output_type": "execute_result"
    }
   ],
   "source": [
    "list(itertools.islice(approaches, 0, 3))"
   ]
  },
  {
   "cell_type": "code",
   "execution_count": null,
   "metadata": {},
   "outputs": [],
   "source": []
  },
  {
   "cell_type": "code",
   "execution_count": 14,
   "metadata": {},
   "outputs": [],
   "source": [
    "tester.assertTrue(math.isnan(lemmon.diameter))"
   ]
  },
  {
   "cell_type": "code",
   "execution_count": 10,
   "metadata": {},
   "outputs": [
    {
     "ename": "SyntaxError",
     "evalue": "invalid syntax (Temp/ipykernel_9832/1944325337.py, line 2)",
     "output_type": "error",
     "traceback": [
      "\u001b[1;36m  File \u001b[1;32m\"C:\\Users\\Aladdin\\AppData\\Local\\Temp/ipykernel_9832/1944325337.py\"\u001b[1;36m, line \u001b[1;32m2\u001b[0m\n\u001b[1;33m    lemmon = self.\u001b[0m\n\u001b[1;37m                  ^\u001b[0m\n\u001b[1;31mSyntaxError\u001b[0m\u001b[1;31m:\u001b[0m invalid syntax\n"
     ]
    }
   ],
   "source": [
    "\n",
    "\n",
    "\n",
    "def test_get_neo_by_name(self):\n",
    "    lemmon = self.\n",
    "    self.assertIsNotNone(lemmon)\n",
    "    self.assertEqual(lemmon.designation, '2013 TL117')\n",
    "    self.assertEqual(lemmon.name, 'Lemmon')\n",
    "    self.assertTrue(math.isnan(lemmon.diameter))\n",
    "    self.assertEqual(lemmon.hazardous, False)\n",
    "\n",
    "    jormungandr = self.db.get_neo_by_name('Jormungandr')\n",
    "    self.assertIsNotNone(jormungandr)\n",
    "    self.assertEqual(jormungandr.designation, '471926')\n",
    "    self.assertEqual(jormungandr.name, 'Jormungandr')\n",
    "    self.assertTrue(math.isnan(jormungandr.diameter))\n",
    "    self.assertEqual(jormungandr.hazardous, True)"
   ]
  },
  {
   "cell_type": "code",
   "execution_count": null,
   "metadata": {},
   "outputs": [],
   "source": []
  }
 ],
 "metadata": {
  "interpreter": {
   "hash": "b480faa8246fe4c6b74d0d9fc3b6d38aeb42a068cd8fb11e4c3f49d451259f48"
  },
  "kernelspec": {
   "display_name": "Python 3.8.5 ('base')",
   "language": "python",
   "name": "python3"
  },
  "language_info": {
   "codemirror_mode": {
    "name": "ipython",
    "version": 3
   },
   "file_extension": ".py",
   "mimetype": "text/x-python",
   "name": "python",
   "nbconvert_exporter": "python",
   "pygments_lexer": "ipython3",
   "version": "3.8.5"
  },
  "orig_nbformat": 4
 },
 "nbformat": 4,
 "nbformat_minor": 2
}
