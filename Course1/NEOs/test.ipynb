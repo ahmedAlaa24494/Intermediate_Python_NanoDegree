{
 "cells": [
  {
   "cell_type": "code",
   "execution_count": 45,
   "metadata": {},
   "outputs": [],
   "source": [
    "import pathlib\n",
    "import math\n",
    "import unittest\n",
    "\n",
    "\n",
    "from extract import load_neos, load_approaches\n",
    "from database import NEODatabase\n",
    "\n",
    "\n",
    "# Paths to the test data files.\n",
    "\n",
    "TEST_NEO_FILE =  'test/test-neos-2020.csv'\n",
    "TEST_CAD_FILE =  'test/test-cad-2020.json'\n"
   ]
  },
  {
   "cell_type": "code",
   "execution_count": 46,
   "metadata": {},
   "outputs": [],
   "source": [
    "tester = unittest.TestCase()"
   ]
  },
  {
   "cell_type": "code",
   "execution_count": 47,
   "metadata": {},
   "outputs": [],
   "source": [
    "neos = load_neos(TEST_NEO_FILE)\n",
    "approaches = load_approaches(TEST_CAD_FILE)\n",
    "db = NEODatabase(neos, approaches)"
   ]
  },
  {
   "cell_type": "code",
   "execution_count": 52,
   "metadata": {},
   "outputs": [
    {
     "data": {
      "text/plain": [
       "NearEarthObject(designation='1685', name='Toro', diameter=3.400, hazardous=False)"
      ]
     },
     "execution_count": 52,
     "metadata": {},
     "output_type": "execute_result"
    }
   ],
   "source": [
    "neos[0]"
   ]
  },
  {
   "cell_type": "code",
   "execution_count": 39,
   "metadata": {},
   "outputs": [],
   "source": [
    "lemmon = db.get_neo_by_name('Lemmon')"
   ]
  },
  {
   "cell_type": "code",
   "execution_count": 42,
   "metadata": {},
   "outputs": [],
   "source": [
    "lemmon.diameter = float(\"nan\")"
   ]
  },
  {
   "cell_type": "code",
   "execution_count": 43,
   "metadata": {},
   "outputs": [],
   "source": [
    "tester.assertTrue(math.isnan(lemmon.diameter))"
   ]
  },
  {
   "cell_type": "code",
   "execution_count": null,
   "metadata": {},
   "outputs": [],
   "source": [
    "\n",
    "\n",
    "\n",
    "def test_get_neo_by_name(self):\n",
    "    lemmon = self.\n",
    "    self.assertIsNotNone(lemmon)\n",
    "    self.assertEqual(lemmon.designation, '2013 TL117')\n",
    "    self.assertEqual(lemmon.name, 'Lemmon')\n",
    "    self.assertTrue(math.isnan(lemmon.diameter))\n",
    "    self.assertEqual(lemmon.hazardous, False)\n",
    "\n",
    "    jormungandr = self.db.get_neo_by_name('Jormungandr')\n",
    "    self.assertIsNotNone(jormungandr)\n",
    "    self.assertEqual(jormungandr.designation, '471926')\n",
    "    self.assertEqual(jormungandr.name, 'Jormungandr')\n",
    "    self.assertTrue(math.isnan(jormungandr.diameter))\n",
    "    self.assertEqual(jormungandr.hazardous, True)"
   ]
  }
 ],
 "metadata": {
  "interpreter": {
   "hash": "b480faa8246fe4c6b74d0d9fc3b6d38aeb42a068cd8fb11e4c3f49d451259f48"
  },
  "kernelspec": {
   "display_name": "Python 3.8.5 ('base')",
   "language": "python",
   "name": "python3"
  },
  "language_info": {
   "codemirror_mode": {
    "name": "ipython",
    "version": 3
   },
   "file_extension": ".py",
   "mimetype": "text/x-python",
   "name": "python",
   "nbconvert_exporter": "python",
   "pygments_lexer": "ipython3",
   "version": "3.8.5"
  },
  "orig_nbformat": 4
 },
 "nbformat": 4,
 "nbformat_minor": 2
}
