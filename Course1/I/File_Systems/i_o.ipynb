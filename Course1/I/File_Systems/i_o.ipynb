{
 "cells": [
  {
   "cell_type": "code",
   "execution_count": null,
   "metadata": {},
   "outputs": [],
   "source": []
  },
  {
   "cell_type": "markdown",
   "metadata": {},
   "source": [
    "## count the number of unique \"words\" in a plain text file\n",
    "We follow the standard pattern for reading data from files: open a file-like object from a path, read information from it into Python, and then do something with that information (perhaps even writing it to another file!).\n",
    "\n",
    "In this case, we use a collections.Counter() to keep track of word counts. It is also valid to use a dictionary mapping words to their counts (taking care to default words to zero occurrences), but we might as well leverage Python's great built-in Counter tool.\n",
    "\n",
    "Once we have a place for words to land, we open up the file, and read each of its lines (as a string)! We split the line (from the file) on whitespace, call each of the resulting chunks \"words,\" and finally update our Counter object with these new words.\n",
    "\n",
    "Lastly, we use the Counter.most_common method (neat, right? Great for interviews) to get the ten most common words and their counts, and print out the results to the console."
   ]
  },
  {
   "cell_type": "code",
   "execution_count": null,
   "metadata": {
    "vscode": {
     "languageId": "plaintext"
    }
   },
   "outputs": [],
   "source": [
    "import collections\n",
    "\n",
    "\n",
    "def count_unique_words(filename='hamlet.txt'):\n",
    "    words = collections.Counter()\n",
    "    # Extract the data into Python.\n",
    "    with open(filename) as f:\n",
    "        for line in f:\n",
    "            words.update(line.split())\n",
    "\n",
    "    # Calculate the ten most common words.\n",
    "    for word, count in words.most_common(10):\n",
    "        print(word, count)\n",
    "\n",
    "\n",
    "if __name__ == '__main__':\n",
    "    count_unique_words('hamlet.txt')\n"
   ]
  }
 ],
 "metadata": {
  "language_info": {
   "name": "python"
  },
  "orig_nbformat": 4
 },
 "nbformat": 4,
 "nbformat_minor": 2
}
