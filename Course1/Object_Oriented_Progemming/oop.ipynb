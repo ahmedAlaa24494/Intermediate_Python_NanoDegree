{
 "cells": [
  {
   "cell_type": "markdown",
   "metadata": {},
   "source": [
    "## Define a Class Object"
   ]
  },
  {
   "cell_type": "code",
   "execution_count": 5,
   "metadata": {},
   "outputs": [],
   "source": [
    "class MyFirstClass:\n",
    "    favorite_number = 41\n",
    "    def print_number(number):\n",
    "        value= 63\n",
    "        print(number)"
   ]
  },
  {
   "cell_type": "markdown",
   "metadata": {},
   "source": [
    "***Attribute Resolution on Class Objects***\n",
    "---\n",
    "Our `class` object also has `attributes` (the ones we defined in its body!) that we can access with a new-ish syntax - asking Python for `some_object.some_attribute` instructs the name `some_attribute` to be resolved on the `some_object` object. For us, this looks like"
   ]
  },
  {
   "cell_type": "code",
   "execution_count": 6,
   "metadata": {},
   "outputs": [
    {
     "name": "stdout",
     "output_type": "stream",
     "text": [
      "<class 'mappingproxy'>\n",
      "True\n",
      "False\n"
     ]
    }
   ],
   "source": [
    "print(type(MyFirstClass.__dict__))  # something that acts a lot like a normal dictionary\n",
    "print('favorite_number' in MyFirstClass.__dict__)  # True\n",
    "print('greet' in MyFirstClass.__dict__)  # True"
   ]
  },
  {
   "cell_type": "code",
   "execution_count": 7,
   "metadata": {},
   "outputs": [
    {
     "data": {
      "text/plain": [
       "mappingproxy({'__module__': '__main__',\n",
       "              'favorite_number': 41,\n",
       "              'print_number': <function __main__.MyFirstClass.print_number(number)>,\n",
       "              '__dict__': <attribute '__dict__' of 'MyFirstClass' objects>,\n",
       "              '__weakref__': <attribute '__weakref__' of 'MyFirstClass' objects>,\n",
       "              '__doc__': None})"
      ]
     },
     "execution_count": 7,
     "metadata": {},
     "output_type": "execute_result"
    }
   ],
   "source": [
    "MyFirstClass.__dict__"
   ]
  },
  {
   "cell_type": "code",
   "execution_count": 9,
   "metadata": {},
   "outputs": [
    {
     "data": {
      "text/plain": [
       "41"
      ]
     },
     "execution_count": 9,
     "metadata": {},
     "output_type": "execute_result"
    }
   ],
   "source": [
    "getattr(MyFirstClass, 'favorite_number')"
   ]
  },
  {
   "cell_type": "code",
   "execution_count": 18,
   "metadata": {},
   "outputs": [
    {
     "name": "stdout",
     "output_type": "stream",
     "text": [
      "{'sit', 'roll over'}\n",
      "{'fetch'}\n",
      "{'fetch', 'shake', 'lie down'}\n"
     ]
    }
   ],
   "source": [
    "class Dog:\n",
    "    def __init__(self, name, tricks=None ):\n",
    "        self.name = name\n",
    "        if tricks : \n",
    "            self.tricks = tricks \n",
    "        else: \n",
    "            self.tricks = set() \n",
    "    \n",
    "    def teach(self, trick):\n",
    "        self.tricks.add(trick)\n",
    "        \n",
    "# Change the broken code above so that the following lines work:\n",
    "\n",
    "buddy = Dog('Buddy')\n",
    "pascal = Dog('Pascal')\n",
    "kimber = Dog('Kimber', tricks={'lie down', 'shake'})\n",
    "buddy.teach('sit')\n",
    "pascal.teach('fetch')\n",
    "buddy.teach('roll over')\n",
    "kimber.teach('fetch')\n",
    "print(buddy.tricks)  # {'roll over', 'sit'}\n",
    "print(pascal.tricks)  # {'fetch'}\n",
    "print(kimber.tricks)  # {'fetch', 'shake', 'lie down'}"
   ]
  },
  {
   "cell_type": "code",
   "execution_count": 24,
   "metadata": {},
   "outputs": [
    {
     "name": "stdout",
     "output_type": "stream",
     "text": [
      "set()\n",
      "{'cristina', 'heather'}\n"
     ]
    }
   ],
   "source": [
    "# This one's a bit different, representing an unusual (and honestly,\n",
    "# not recommended) strategy for tracking users that sign up for a service.\n",
    "\n",
    "class User:\n",
    "    # An (intentionally shared) collection storing users who sign up for some hypothetical service.\n",
    "    # There's only one set of members, so it lives at the class level!\n",
    "    members = set()\n",
    "    def __init__(self, name , members = set()):\n",
    "        self.name = name\n",
    "        self.members = members  # Not signed up to begin with.\n",
    "    def sign_up(self):\n",
    "        User.members.add(self.name)\n",
    "\n",
    "# Change the code above so that the following lines work:\n",
    "# \n",
    "sarah = User('sarah')\n",
    "heather = User('heather')\n",
    "cristina = User('cristina')\n",
    "print(User.members)  # set()\n",
    "heather.sign_up()\n",
    "cristina.sign_up()\n",
    "print(User.members)  # {'heather', 'cristina'}"
   ]
  },
  {
   "cell_type": "code",
   "execution_count": 15,
   "metadata": {},
   "outputs": [
    {
     "data": {
      "text/plain": [
       "2403939576736"
      ]
     },
     "execution_count": 15,
     "metadata": {},
     "output_type": "execute_result"
    }
   ],
   "source": [
    "id(pascal.tricks)"
   ]
  },
  {
   "cell_type": "code",
   "execution_count": null,
   "metadata": {},
   "outputs": [],
   "source": []
  }
 ],
 "metadata": {
  "interpreter": {
   "hash": "7a9b25cab5cf87515b1aea335a4811a28e597febd6b2721560b12340e00708cd"
  },
  "kernelspec": {
   "display_name": "Python 3.9.7 ('base')",
   "language": "python",
   "name": "python3"
  },
  "language_info": {
   "codemirror_mode": {
    "name": "ipython",
    "version": 3
   },
   "file_extension": ".py",
   "mimetype": "text/x-python",
   "name": "python",
   "nbconvert_exporter": "python",
   "pygments_lexer": "ipython3",
   "version": "3.9.7"
  },
  "orig_nbformat": 4
 },
 "nbformat": 4,
 "nbformat_minor": 2
}
