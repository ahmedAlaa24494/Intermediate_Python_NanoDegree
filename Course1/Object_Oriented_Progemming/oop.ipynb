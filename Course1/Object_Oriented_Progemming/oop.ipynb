{
 "cells": [
  {
   "cell_type": "markdown",
   "metadata": {},
   "source": [
    "## Define a Class Object"
   ]
  },
  {
   "cell_type": "code",
   "execution_count": 5,
   "metadata": {},
   "outputs": [],
   "source": [
    "class MyFirstClass:\n",
    "    favorite_number = 41\n",
    "    def print_number(number):\n",
    "        value= 63\n",
    "        print(number)"
   ]
  },
  {
   "cell_type": "markdown",
   "metadata": {},
   "source": [
    "***Attribute Resolution on Class Objects***\n",
    "---\n",
    "Our `class` object also has `attributes` (the ones we defined in its body!) that we can access with a new-ish syntax - asking Python for `some_object.some_attribute` instructs the name `some_attribute` to be resolved on the `some_object` object. For us, this looks like"
   ]
  },
  {
   "cell_type": "code",
   "execution_count": 6,
   "metadata": {},
   "outputs": [
    {
     "name": "stdout",
     "output_type": "stream",
     "text": [
      "<class 'mappingproxy'>\n",
      "True\n",
      "False\n"
     ]
    }
   ],
   "source": [
    "print(type(MyFirstClass.__dict__))  # something that acts a lot like a normal dictionary\n",
    "print('favorite_number' in MyFirstClass.__dict__)  # True\n",
    "print('greet' in MyFirstClass.__dict__)  # True"
   ]
  },
  {
   "cell_type": "code",
   "execution_count": 7,
   "metadata": {},
   "outputs": [
    {
     "data": {
      "text/plain": [
       "mappingproxy({'__module__': '__main__',\n",
       "              'favorite_number': 41,\n",
       "              'print_number': <function __main__.MyFirstClass.print_number(number)>,\n",
       "              '__dict__': <attribute '__dict__' of 'MyFirstClass' objects>,\n",
       "              '__weakref__': <attribute '__weakref__' of 'MyFirstClass' objects>,\n",
       "              '__doc__': None})"
      ]
     },
     "execution_count": 7,
     "metadata": {},
     "output_type": "execute_result"
    }
   ],
   "source": [
    "MyFirstClass.__dict__"
   ]
  },
  {
   "cell_type": "code",
   "execution_count": 9,
   "metadata": {},
   "outputs": [
    {
     "data": {
      "text/plain": [
       "41"
      ]
     },
     "execution_count": 9,
     "metadata": {},
     "output_type": "execute_result"
    }
   ],
   "source": [
    "getattr(MyFirstClass, 'favorite_number')"
   ]
  },
  {
   "cell_type": "code",
   "execution_count": 18,
   "metadata": {},
   "outputs": [
    {
     "name": "stdout",
     "output_type": "stream",
     "text": [
      "{'sit', 'roll over'}\n",
      "{'fetch'}\n",
      "{'fetch', 'shake', 'lie down'}\n"
     ]
    }
   ],
   "source": [
    "class Dog:\n",
    "    def __init__(self, name, tricks=None ):\n",
    "        self.name = name\n",
    "        if tricks : \n",
    "            self.tricks = tricks \n",
    "        else: \n",
    "            self.tricks = set() \n",
    "    \n",
    "    def teach(self, trick):\n",
    "        self.tricks.add(trick)\n",
    "        \n",
    "# Change the broken code above so that the following lines work:\n",
    "\n",
    "buddy = Dog('Buddy')\n",
    "pascal = Dog('Pascal')\n",
    "kimber = Dog('Kimber', tricks={'lie down', 'shake'})\n",
    "buddy.teach('sit')\n",
    "pascal.teach('fetch')\n",
    "buddy.teach('roll over')\n",
    "kimber.teach('fetch')\n",
    "print(buddy.tricks)  # {'roll over', 'sit'}\n",
    "print(pascal.tricks)  # {'fetch'}\n",
    "print(kimber.tricks)  # {'fetch', 'shake', 'lie down'}"
   ]
  },
  {
   "cell_type": "code",
   "execution_count": 24,
   "metadata": {},
   "outputs": [
    {
     "name": "stdout",
     "output_type": "stream",
     "text": [
      "set()\n",
      "{'cristina', 'heather'}\n"
     ]
    }
   ],
   "source": [
    "# This one's a bit different, representing an unusual (and honestly,\n",
    "# not recommended) strategy for tracking users that sign up for a service.\n",
    "\n",
    "class User:\n",
    "    # An (intentionally shared) collection storing users who sign up for some hypothetical service.\n",
    "    # There's only one set of members, so it lives at the class level!\n",
    "    members = set()\n",
    "    def __init__(self, name , members = set()):\n",
    "        self.name = name\n",
    "        self.members = members  # Not signed up to begin with.\n",
    "    def sign_up(self):\n",
    "        User.members.add(self.name)\n",
    "\n",
    "# Change the code above so that the following lines work:\n",
    "# \n",
    "sarah = User('sarah')\n",
    "heather = User('heather')\n",
    "cristina = User('cristina')\n",
    "print(User.members)  # set()\n",
    "heather.sign_up()\n",
    "cristina.sign_up()\n",
    "print(User.members)  # {'heather', 'cristina'}"
   ]
  },
  {
   "cell_type": "code",
   "execution_count": 15,
   "metadata": {},
   "outputs": [
    {
     "data": {
      "text/plain": [
       "2403939576736"
      ]
     },
     "execution_count": 15,
     "metadata": {},
     "output_type": "execute_result"
    }
   ],
   "source": [
    "id(pascal.tricks)"
   ]
  },
  {
   "cell_type": "markdown",
   "metadata": {},
   "source": [
    "***There are two other intriguing method decorators built into Python: `classmethod` and `staticmethod`***\n",
    "---\n",
    "There are two other intriguing method decorators built into Python: classmethod and staticmethod\n",
    "\n",
    "The `@classmethod` > decorator changes method call behavior by passing the class object, not the instance object, as the first argument.\n",
    "\n",
    "The `@staticmethod` >  decorator changes method call behavior by not supplying either the instance object nor the class object as the first argument.\n",
    "\n",
    "Class methods are a useful technique for representing factory functions - other ways to create instance objects, but attached to the class itself.\n",
    "\n",
    "Static methods are a useful technique for attaching utility functions to a class.\n"
   ]
  },
  {
   "cell_type": "code",
   "execution_count": 25,
   "metadata": {},
   "outputs": [],
   "source": [
    "class Example:\n",
    "    def a_normal_method(self, a, b):\n",
    "        print(self, a, b)\n",
    "    @classmethod\n",
    "    def a_class_method(cls, a, b):\n",
    "        print(cls, a, b)\n",
    "    @staticmethod\n",
    "    def a_static_method(a, b):\n",
    "        print(a, b)\n",
    "\n",
    "ex = Example()"
   ]
  },
  {
   "cell_type": "code",
   "execution_count": 30,
   "metadata": {},
   "outputs": [
    {
     "name": "stdout",
     "output_type": "stream",
     "text": [
      "<__main__.Example object at 0x0000022FB53232B0> 1 2\n"
     ]
    }
   ],
   "source": [
    "ex.a_normal_method(1,2)"
   ]
  },
  {
   "cell_type": "code",
   "execution_count": 31,
   "metadata": {},
   "outputs": [
    {
     "name": "stdout",
     "output_type": "stream",
     "text": [
      "<class '__main__.Example'> 1 2\n"
     ]
    }
   ],
   "source": [
    "ex.a_class_method(1,2)"
   ]
  },
  {
   "cell_type": "code",
   "execution_count": null,
   "metadata": {},
   "outputs": [],
   "source": []
  },
  {
   "cell_type": "markdown",
   "metadata": {},
   "source": [
    "The goal of this exercise was to gain experience using the common (and uncommon) tools available in Python for designing a class - specifically, a customer that's part of a subscription service.\n",
    "\n",
    "We define a new Customer class object, inside of which are many methods. The __init__ method is responsibly for finishing the initialization of a new Customer, and it adds a first_name, surname, _tier, and _cost attribute to a newly-formed instance object.\n",
    "\n",
    "Then, the bill_for method can take the instance object and some number of months, and return how much to bill the customer (at the customer's ._cost for the given number of months. The can_access method takes in an instance object and a unit content (perhaps a dictionary with a 'tier' key), and returns whether the content is free or the content's tier matches the customer's tier.\n",
    "\n",
    "Finally, we define a property name by decorating a method with the @property decorator, which returns the first name and the surname of the customer, and a class method premium that creates a new premium subscriber from a first name and a surname.\n",
    "\n",
    "There are many valid ways to design a Customer class - if you followed a different path, not to worry! The goal really was to explore design decisions and gain confidence with the mechanics of designing Python classes."
   ]
  },
  {
   "cell_type": "code",
   "execution_count": 34,
   "metadata": {},
   "outputs": [],
   "source": [
    "class Customer:\n",
    "    def __init__(self , first_name , last_name , tier = ('free' , 0)) : \n",
    "        self.f_n  = first_name \n",
    "        self.l_n = last_name \n",
    "        self._tier = tier[0]\n",
    "        self._cost = tier[1]\n",
    "    def can_access(self, content): \n",
    "        return content['tier'] == 'free' or content['tier'] == self._tier\n",
    "    \n",
    "    def bill_for(self , months):\n",
    "        return months *self._cost \n",
    "\n",
    "\n",
    "    @property \n",
    "    def name(self): \n",
    "        return f\"{self.f_n} {self.l_n}\"\n",
    "    \n",
    "\n",
    "    @classmethod \n",
    "    def premium(cls , first_name , last_name , tier = ('premium' , 10)) : \n",
    "        return cls(first_name , last_name , tier)\n",
    "\n",
    "    \n"
   ]
  },
  {
   "cell_type": "code",
   "execution_count": 35,
   "metadata": {},
   "outputs": [
    {
     "name": "stdout",
     "output_type": "stream",
     "text": [
      "Marco Polo\n",
      "True\n",
      "False\n",
      "True\n",
      "True\n",
      "50\n",
      "Alexandrina Victoria\n"
     ]
    }
   ],
   "source": [
    "marco = Customer('Marco', 'Polo')  # Defaults to the free tier\n",
    "print(marco.name)  # Marco Polo\n",
    "print(marco.can_access({'tier': 'free', 'title': '1812 Overture'}))  # True\n",
    "print(marco.can_access({'tier': 'premium', 'title': 'William Tell Overture'}))  # False\n",
    "\n",
    "victoria = Customer.premium(\"Alexandrina\", \"Victoria\")  # Build a customer around the ('premium', 10$/mo) streaming plan.\n",
    "print(victoria.can_access({'tier': 'free', 'title': '1812 Overture'}))  # True\n",
    "print(victoria.can_access({'tier': 'premium', 'title': 'William Tell Overture'}))  # True\n",
    "print(victoria.bill_for(5))  # => 50 (5 months at 10$/mo)\n",
    "print(victoria.name)  # Alexandrina Victoria"
   ]
  },
  {
   "cell_type": "code",
   "execution_count": 39,
   "metadata": {},
   "outputs": [
    {
     "ename": "AttributeError",
     "evalue": "type object 'Customer' has no attribute '_tier'",
     "output_type": "error",
     "traceback": [
      "\u001b[1;31m---------------------------------------------------------------------------\u001b[0m",
      "\u001b[1;31mAttributeError\u001b[0m                            Traceback (most recent call last)",
      "\u001b[1;32m~\\AppData\\Local\\Temp/ipykernel_11536/1773804410.py\u001b[0m in \u001b[0;36m<module>\u001b[1;34m\u001b[0m\n\u001b[1;32m----> 1\u001b[1;33m \u001b[0mCustomer\u001b[0m\u001b[1;33m.\u001b[0m\u001b[0m_tier\u001b[0m\u001b[1;33m\u001b[0m\u001b[1;33m\u001b[0m\u001b[0m\n\u001b[0m",
      "\u001b[1;31mAttributeError\u001b[0m: type object 'Customer' has no attribute '_tier'"
     ]
    }
   ],
   "source": [
    "Customer._tier"
   ]
  },
  {
   "cell_type": "markdown",
   "metadata": {},
   "source": [
    "### Magic Methods\n",
    "\n",
    "*Python provides tools for making our custom classes \"act like\" other `built-in` types.*\n",
    "\n",
    "`If we have an instance object obj of a custom class, and Python needs to evaluate len(obj), Python will attempt to call the magic method obj.__len__. If Python needs to evaluate print(obj), it will call the magic method obj.__str__. If Python needs to evaluate obj + other, it will first attempt to call obj.__add__(other). There are magic methods for nearly all built-in Python behaviors, so by implementing the correct ones, we can make our class act like a Sized container, have a human-readable representation, or even act a bit like a numeric type, able to be added to other objects.`\n",
    "\n",
    "*The __init__ method that we've seen before falls into this category - it let's us define custom classes that hook into Python's initialization procedure!*"
   ]
  },
  {
   "cell_type": "code",
   "execution_count": 40,
   "metadata": {},
   "outputs": [],
   "source": [
    "class MagicShoppingCart:\n",
    "    def __init__(self, items):\n",
    "        self.items = items\n",
    "    def __len__(self):\n",
    "        return sum(self.items.values())\n",
    "    def __str__(self):\n",
    "        return f\"MagicShoppingCart({self.items})\"\n",
    "    def __contains__(self, item):\n",
    "        return item in self.items"
   ]
  },
  {
   "cell_type": "code",
   "execution_count": 66,
   "metadata": {},
   "outputs": [
    {
     "name": "stdout",
     "output_type": "stream",
     "text": [
      "Point (4, 1) \n",
      "Point (3, -3) \n",
      "Point (7, -2) \n"
     ]
    }
   ],
   "source": [
    "class Point:\n",
    "    \"\"\"Implement your Point class in here!\"\"\"\n",
    "    def __init__(self , x = 0 , y = 0):\n",
    "        self.x = x \n",
    "        self.y = y \n",
    "    \n",
    "    def __str__(self):\n",
    "        point = tuple([self.x , self.y])\n",
    "        return f\"Point {point} \"\n",
    "\n",
    "    @property \n",
    "    def point(self):\n",
    "        return tuple([self.x ,self.y]) \n",
    "\n",
    "\n",
    "    def __add__(self , other):\n",
    "        x ,y  =  other.point\n",
    "        return  Point(self.x + x , self.y + y )\n",
    "        \n",
    "\n",
    "if __name__ == '__main__':\n",
    "    # This won't work until you finish implementing the Point class.\n",
    "    origin = Point()\n",
    "    point = Point(4, 1)\n",
    "    other_point = Point(3, -3)\n",
    "    third_point = point + other_point\n",
    "\n",
    "    print(point)\n",
    "    print(other_point)\n",
    "    print(third_point)"
   ]
  },
  {
   "cell_type": "code",
   "execution_count": 56,
   "metadata": {},
   "outputs": [],
   "source": [
    "x , y = point.point\n"
   ]
  },
  {
   "cell_type": "code",
   "execution_count": 57,
   "metadata": {},
   "outputs": [
    {
     "data": {
      "text/plain": [
       "4"
      ]
     },
     "execution_count": 57,
     "metadata": {},
     "output_type": "execute_result"
    }
   ],
   "source": [
    "x"
   ]
  },
  {
   "cell_type": "code",
   "execution_count": 58,
   "metadata": {},
   "outputs": [
    {
     "data": {
      "text/plain": [
       "1"
      ]
     },
     "execution_count": 58,
     "metadata": {},
     "output_type": "execute_result"
    }
   ],
   "source": [
    "y "
   ]
  },
  {
   "cell_type": "code",
   "execution_count": null,
   "metadata": {},
   "outputs": [],
   "source": []
  }
 ],
 "metadata": {
  "interpreter": {
   "hash": "7a9b25cab5cf87515b1aea335a4811a28e597febd6b2721560b12340e00708cd"
  },
  "kernelspec": {
   "display_name": "Python 3.9.7 ('base')",
   "language": "python",
   "name": "python3"
  },
  "language_info": {
   "codemirror_mode": {
    "name": "ipython",
    "version": 3
   },
   "file_extension": ".py",
   "mimetype": "text/x-python",
   "name": "python",
   "nbconvert_exporter": "python",
   "pygments_lexer": "ipython3",
   "version": "3.9.7"
  },
  "orig_nbformat": 4
 },
 "nbformat": 4,
 "nbformat_minor": 2
}
