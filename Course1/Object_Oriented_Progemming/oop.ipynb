{
 "cells": [
  {
   "cell_type": "markdown",
   "metadata": {},
   "source": [
    "## Define a Class Object"
   ]
  },
  {
   "cell_type": "code",
   "execution_count": 5,
   "metadata": {},
   "outputs": [],
   "source": [
    "class MyFirstClass:\n",
    "    favorite_number = 41\n",
    "    def print_number(number):\n",
    "        value= 63\n",
    "        print(number)"
   ]
  },
  {
   "cell_type": "markdown",
   "metadata": {},
   "source": [
    "***Attribute Resolution on Class Objects***\n",
    "---\n",
    "Our `class` object also has `attributes` (the ones we defined in its body!) that we can access with a new-ish syntax - asking Python for `some_object.some_attribute` instructs the name `some_attribute` to be resolved on the `some_object` object. For us, this looks like"
   ]
  },
  {
   "cell_type": "code",
   "execution_count": 6,
   "metadata": {},
   "outputs": [
    {
     "name": "stdout",
     "output_type": "stream",
     "text": [
      "<class 'mappingproxy'>\n",
      "True\n",
      "False\n"
     ]
    }
   ],
   "source": [
    "print(type(MyFirstClass.__dict__))  # something that acts a lot like a normal dictionary\n",
    "print('favorite_number' in MyFirstClass.__dict__)  # True\n",
    "print('greet' in MyFirstClass.__dict__)  # True"
   ]
  },
  {
   "cell_type": "code",
   "execution_count": 7,
   "metadata": {},
   "outputs": [
    {
     "data": {
      "text/plain": [
       "mappingproxy({'__module__': '__main__',\n",
       "              'favorite_number': 41,\n",
       "              'print_number': <function __main__.MyFirstClass.print_number(number)>,\n",
       "              '__dict__': <attribute '__dict__' of 'MyFirstClass' objects>,\n",
       "              '__weakref__': <attribute '__weakref__' of 'MyFirstClass' objects>,\n",
       "              '__doc__': None})"
      ]
     },
     "execution_count": 7,
     "metadata": {},
     "output_type": "execute_result"
    }
   ],
   "source": [
    "MyFirstClass.__dict__"
   ]
  },
  {
   "cell_type": "code",
   "execution_count": 9,
   "metadata": {},
   "outputs": [
    {
     "data": {
      "text/plain": [
       "41"
      ]
     },
     "execution_count": 9,
     "metadata": {},
     "output_type": "execute_result"
    }
   ],
   "source": [
    "getattr(MyFirstClass, 'favorite_number')"
   ]
  },
  {
   "cell_type": "code",
   "execution_count": 18,
   "metadata": {},
   "outputs": [
    {
     "name": "stdout",
     "output_type": "stream",
     "text": [
      "{'sit', 'roll over'}\n",
      "{'fetch'}\n",
      "{'fetch', 'shake', 'lie down'}\n"
     ]
    }
   ],
   "source": [
    "class Dog:\n",
    "    def __init__(self, name, tricks=None ):\n",
    "        self.name = name\n",
    "        if tricks : \n",
    "            self.tricks = tricks \n",
    "        else: \n",
    "            self.tricks = set() \n",
    "    \n",
    "    def teach(self, trick):\n",
    "        self.tricks.add(trick)\n",
    "        \n",
    "# Change the broken code above so that the following lines work:\n",
    "\n",
    "buddy = Dog('Buddy')\n",
    "pascal = Dog('Pascal')\n",
    "kimber = Dog('Kimber', tricks={'lie down', 'shake'})\n",
    "buddy.teach('sit')\n",
    "pascal.teach('fetch')\n",
    "buddy.teach('roll over')\n",
    "kimber.teach('fetch')\n",
    "print(buddy.tricks)  # {'roll over', 'sit'}\n",
    "print(pascal.tricks)  # {'fetch'}\n",
    "print(kimber.tricks)  # {'fetch', 'shake', 'lie down'}"
   ]
  },
  {
   "cell_type": "code",
   "execution_count": 24,
   "metadata": {},
   "outputs": [
    {
     "name": "stdout",
     "output_type": "stream",
     "text": [
      "set()\n",
      "{'cristina', 'heather'}\n"
     ]
    }
   ],
   "source": [
    "# This one's a bit different, representing an unusual (and honestly,\n",
    "# not recommended) strategy for tracking users that sign up for a service.\n",
    "\n",
    "class User:\n",
    "    # An (intentionally shared) collection storing users who sign up for some hypothetical service.\n",
    "    # There's only one set of members, so it lives at the class level!\n",
    "    members = set()\n",
    "    def __init__(self, name , members = set()):\n",
    "        self.name = name\n",
    "        self.members = members  # Not signed up to begin with.\n",
    "    def sign_up(self):\n",
    "        User.members.add(self.name)\n",
    "\n",
    "# Change the code above so that the following lines work:\n",
    "# \n",
    "sarah = User('sarah')\n",
    "heather = User('heather')\n",
    "cristina = User('cristina')\n",
    "print(User.members)  # set()\n",
    "heather.sign_up()\n",
    "cristina.sign_up()\n",
    "print(User.members)  # {'heather', 'cristina'}"
   ]
  },
  {
   "cell_type": "code",
   "execution_count": 15,
   "metadata": {},
   "outputs": [
    {
     "data": {
      "text/plain": [
       "2403939576736"
      ]
     },
     "execution_count": 15,
     "metadata": {},
     "output_type": "execute_result"
    }
   ],
   "source": [
    "id(pascal.tricks)"
   ]
  },
  {
   "cell_type": "markdown",
   "metadata": {},
   "source": [
    "***There are two other intriguing method decorators built into Python: `classmethod` and `staticmethod`***\n",
    "---\n",
    "There are two other intriguing method decorators built into Python: classmethod and staticmethod\n",
    "\n",
    "The `@classmethod` > decorator changes method call behavior by passing the class object, not the instance object, as the first argument.\n",
    "\n",
    "The `@staticmethod` >  decorator changes method call behavior by not supplying either the instance object nor the class object as the first argument.\n",
    "\n",
    "Class methods are a useful technique for representing factory functions - other ways to create instance objects, but attached to the class itself.\n",
    "\n",
    "Static methods are a useful technique for attaching utility functions to a class.\n"
   ]
  },
  {
   "cell_type": "code",
   "execution_count": 25,
   "metadata": {},
   "outputs": [],
   "source": [
    "class Example:\n",
    "    def a_normal_method(self, a, b):\n",
    "        print(self, a, b)\n",
    "    @classmethod\n",
    "    def a_class_method(cls, a, b):\n",
    "        print(cls, a, b)\n",
    "    @staticmethod\n",
    "    def a_static_method(a, b):\n",
    "        print(a, b)\n",
    "\n",
    "ex = Example()"
   ]
  },
  {
   "cell_type": "code",
   "execution_count": 30,
   "metadata": {},
   "outputs": [
    {
     "name": "stdout",
     "output_type": "stream",
     "text": [
      "<__main__.Example object at 0x0000022FB53232B0> 1 2\n"
     ]
    }
   ],
   "source": [
    "ex.a_normal_method(1,2)"
   ]
  },
  {
   "cell_type": "code",
   "execution_count": 31,
   "metadata": {},
   "outputs": [
    {
     "name": "stdout",
     "output_type": "stream",
     "text": [
      "<class '__main__.Example'> 1 2\n"
     ]
    }
   ],
   "source": [
    "ex.a_class_method(1,2)"
   ]
  },
  {
   "cell_type": "code",
   "execution_count": null,
   "metadata": {},
   "outputs": [],
   "source": []
  },
  {
   "cell_type": "markdown",
   "metadata": {},
   "source": [
    "The goal of this exercise was to gain experience using the common (and uncommon) tools available in Python for designing a class - specifically, a customer that's part of a subscription service.\n",
    "\n",
    "We define a new Customer class object, inside of which are many methods. The __init__ method is responsibly for finishing the initialization of a new Customer, and it adds a first_name, surname, _tier, and _cost attribute to a newly-formed instance object.\n",
    "\n",
    "Then, the bill_for method can take the instance object and some number of months, and return how much to bill the customer (at the customer's ._cost for the given number of months. The can_access method takes in an instance object and a unit content (perhaps a dictionary with a 'tier' key), and returns whether the content is free or the content's tier matches the customer's tier.\n",
    "\n",
    "Finally, we define a property name by decorating a method with the @property decorator, which returns the first name and the surname of the customer, and a class method premium that creates a new premium subscriber from a first name and a surname.\n",
    "\n",
    "There are many valid ways to design a Customer class - if you followed a different path, not to worry! The goal really was to explore design decisions and gain confidence with the mechanics of designing Python classes."
   ]
  },
  {
   "cell_type": "code",
   "execution_count": 34,
   "metadata": {},
   "outputs": [],
   "source": [
    "class Customer:\n",
    "    def __init__(self , first_name , last_name , tier = ('free' , 0)) : \n",
    "        self.f_n  = first_name \n",
    "        self.l_n = last_name \n",
    "        self._tier = tier[0]\n",
    "        self._cost = tier[1]\n",
    "    def can_access(self, content): \n",
    "        return content['tier'] == 'free' or content['tier'] == self._tier\n",
    "    \n",
    "    def bill_for(self , months):\n",
    "        return months *self._cost \n",
    "\n",
    "\n",
    "    @property \n",
    "    def name(self): \n",
    "        return f\"{self.f_n} {self.l_n}\"\n",
    "    \n",
    "\n",
    "    @classmethod \n",
    "    def premium(cls , first_name , last_name , tier = ('premium' , 10)) : \n",
    "        return cls(first_name , last_name , tier)\n",
    "\n",
    "    \n"
   ]
  },
  {
   "cell_type": "code",
   "execution_count": 35,
   "metadata": {},
   "outputs": [
    {
     "name": "stdout",
     "output_type": "stream",
     "text": [
      "Marco Polo\n",
      "True\n",
      "False\n",
      "True\n",
      "True\n",
      "50\n",
      "Alexandrina Victoria\n"
     ]
    }
   ],
   "source": [
    "marco = Customer('Marco', 'Polo')  # Defaults to the free tier\n",
    "print(marco.name)  # Marco Polo\n",
    "print(marco.can_access({'tier': 'free', 'title': '1812 Overture'}))  # True\n",
    "print(marco.can_access({'tier': 'premium', 'title': 'William Tell Overture'}))  # False\n",
    "\n",
    "victoria = Customer.premium(\"Alexandrina\", \"Victoria\")  # Build a customer around the ('premium', 10$/mo) streaming plan.\n",
    "print(victoria.can_access({'tier': 'free', 'title': '1812 Overture'}))  # True\n",
    "print(victoria.can_access({'tier': 'premium', 'title': 'William Tell Overture'}))  # True\n",
    "print(victoria.bill_for(5))  # => 50 (5 months at 10$/mo)\n",
    "print(victoria.name)  # Alexandrina Victoria"
   ]
  },
  {
   "cell_type": "code",
   "execution_count": 39,
   "metadata": {},
   "outputs": [
    {
     "ename": "AttributeError",
     "evalue": "type object 'Customer' has no attribute '_tier'",
     "output_type": "error",
     "traceback": [
      "\u001b[1;31m---------------------------------------------------------------------------\u001b[0m",
      "\u001b[1;31mAttributeError\u001b[0m                            Traceback (most recent call last)",
      "\u001b[1;32m~\\AppData\\Local\\Temp/ipykernel_11536/1773804410.py\u001b[0m in \u001b[0;36m<module>\u001b[1;34m\u001b[0m\n\u001b[1;32m----> 1\u001b[1;33m \u001b[0mCustomer\u001b[0m\u001b[1;33m.\u001b[0m\u001b[0m_tier\u001b[0m\u001b[1;33m\u001b[0m\u001b[1;33m\u001b[0m\u001b[0m\n\u001b[0m",
      "\u001b[1;31mAttributeError\u001b[0m: type object 'Customer' has no attribute '_tier'"
     ]
    }
   ],
   "source": [
    "Customer._tier"
   ]
  },
  {
   "cell_type": "markdown",
   "metadata": {},
   "source": [
    "### Magic Methods\n",
    "\n",
    "*Python provides tools for making our custom classes \"act like\" other `built-in` types.*\n",
    "\n",
    "`If we have an instance object obj of a custom class, and Python needs to evaluate len(obj), Python will attempt to call the magic method obj.__len__. If Python needs to evaluate print(obj), it will call the magic method obj.__str__. If Python needs to evaluate obj + other, it will first attempt to call obj.__add__(other). There are magic methods for nearly all built-in Python behaviors, so by implementing the correct ones, we can make our class act like a Sized container, have a human-readable representation, or even act a bit like a numeric type, able to be added to other objects.`\n",
    "\n",
    "*The __init__ method that we've seen before falls into this category - it let's us define custom classes that hook into Python's initialization procedure!*"
   ]
  },
  {
   "cell_type": "code",
   "execution_count": 40,
   "metadata": {},
   "outputs": [],
   "source": [
    "class MagicShoppingCart:\n",
    "    def __init__(self, items):\n",
    "        self.items = items\n",
    "    def __len__(self):\n",
    "        return sum(self.items.values())\n",
    "    def __str__(self):\n",
    "        return f\"MagicShoppingCart({self.items})\"\n",
    "    def __contains__(self, item):\n",
    "        return item in self.items"
   ]
  },
  {
   "cell_type": "code",
   "execution_count": 66,
   "metadata": {},
   "outputs": [
    {
     "name": "stdout",
     "output_type": "stream",
     "text": [
      "Point (4, 1) \n",
      "Point (3, -3) \n",
      "Point (7, -2) \n"
     ]
    }
   ],
   "source": [
    "class Point:\n",
    "    \"\"\"Implement your Point class in here!\"\"\"\n",
    "    def __init__(self , x = 0 , y = 0):\n",
    "        self.x = x \n",
    "        self.y = y \n",
    "    \n",
    "    def __str__(self):\n",
    "        point = tuple([self.x , self.y])\n",
    "        return f\"Point {point} \"\n",
    "\n",
    "    @property \n",
    "    def point(self):\n",
    "        return tuple([self.x ,self.y]) \n",
    "\n",
    "\n",
    "    def __add__(self , other):\n",
    "        x ,y  =  other.point\n",
    "        return  Point(self.x + x , self.y + y )\n",
    "        \n",
    "\n",
    "if __name__ == '__main__':\n",
    "    # This won't work until you finish implementing the Point class.\n",
    "    origin = Point()\n",
    "    point = Point(4, 1)\n",
    "    other_point = Point(3, -3)\n",
    "    third_point = point + other_point\n",
    "\n",
    "    print(point)\n",
    "    print(other_point)\n",
    "    print(third_point)"
   ]
  },
  {
   "cell_type": "code",
   "execution_count": null,
   "metadata": {},
   "outputs": [],
   "source": []
  },
  {
   "cell_type": "markdown",
   "metadata": {},
   "source": [
    "## Classes in Python can derive (inherit) from other classes.\n",
    "---\n",
    "\n",
    "``` python \n",
    "class DerivedClassName(BaseClassName):\n",
    "    pass\n",
    "\n",
    "class MultiplyDerived(Base1, Base2, Base3):\n",
    "    pass\n",
    "```\n",
    "---\n",
    "\n",
    "The class object `DerivedClassName` has one direct superclass - `BaseClassName`. The class object `MultiplyDerived` has an ordered sequence of direct superclasses - Base1, Base2, and Base3. The class definitions we've seen so far (that look like class ClassName: with no parentheses) inherit from the base type object.\n",
    "\n",
    "Let's look at an example: the `MotorVehicle` (super)class and the `Car` (derived) class.\n",
    "\n",
    "\n"
   ]
  },
  {
   "cell_type": "code",
   "execution_count": 67,
   "metadata": {},
   "outputs": [],
   "source": [
    "class MotorVehicle:\n",
    "    def __init__(self, range):\n",
    "        self.range = range\n",
    "        self.tank = range\n",
    "    def travel(self, distance):\n",
    "        if distance > self.tank:\n",
    "            print(f\"Not enough in the tank. Only traveled {self.tank} kilometers.\")\n",
    "            self.tank = 0\n",
    "        else:\n",
    "            print(f\"VOOOM! Traveled {distance} kilometers.\")\n",
    "            self.tank -= distance\n",
    "    def refuel(self):\n",
    "        print(\"Refueling...\")\n",
    "        self.tank = self.range\n",
    "    def __str__(self):\n",
    "        return(f\"Vehicle(range={self.range}, tank={self.tank})\")\n",
    "\n",
    "class Car(MotorVehicle):\n",
    "    def __init__(self, range, wheels, color):\n",
    "        super().__init__(range)\n",
    "        self.wheels = wheels\n",
    "        self.color = color"
   ]
  },
  {
   "cell_type": "markdown",
   "metadata": {},
   "source": [
    "***We can inspect and use these classes***"
   ]
  },
  {
   "cell_type": "code",
   "execution_count": 73,
   "metadata": {},
   "outputs": [
    {
     "name": "stdout",
     "output_type": "stream",
     "text": [
      "Vehicle(range=100, tank=100)\n",
      "VOOOM! Traveled 50 kilometers.\n",
      "VOOOM! Traveled 30 kilometers.\n",
      "VOOOM! Traveled 20 kilometers.\n",
      "Vehicle(range=100, tank=0)\n",
      "Refueling...\n",
      "Vehicle(range=100, tank=100)\n",
      "500\n",
      "500\n",
      "4\n",
      "red\n",
      "{'range': 500, 'tank': 500, 'wheels': 4, 'color': 'red'}\n",
      "VOOOM! Traveled 50 kilometers.\n",
      "VOOOM! Traveled 100 kilometers.\n",
      "Refueling...\n",
      "Vehicle(range=500, tank=500)\n"
     ]
    }
   ],
   "source": [
    "mv = MotorVehicle(100)\n",
    "print(mv)  # Vehicle(range=100, tank=100)\n",
    "mv.travel(50)  # VOOOM! Traveled 50 kilometers.\n",
    "mv.travel(30)  # VOOOM! Traveled 30 kilometers.\n",
    "mv.travel(20)  # Not enough in the tank. Only traveled 20 kilometers.\n",
    "print(mv)  # Vehicle(range=100, tank=0)\n",
    "mv.refuel()  # Refueling...\n",
    "print(mv)  # Vehicle(range=100, tank=100)\n",
    "c = Car(500, 4, 'red')\n",
    "print(c.range)  # 500\n",
    "print(c.tank)  # 500\n",
    "print(c.wheels)  # 4\n",
    "print(c.color)  # 'red'\n",
    "print(c.__dict__)  # {'range': 500, 'tank': 500, 'wheels': 4, 'color': 'red'}\n",
    "c.travel(50)  # VOOOM! Traveled 50 kilometers.\n",
    "c.travel(100)  # VOOOM! Traveled 100 kilometers.\n",
    "c.refuel()  # Refueling...\n",
    "print(c)  # Vehicle(range=500, tank=500)"
   ]
  },
  {
   "cell_type": "markdown",
   "metadata": {},
   "source": [
    "## `Handling Errors in Python`\n"
   ]
  },
  {
   "cell_type": "markdown",
   "metadata": {},
   "source": [
    "When Python provides errors, we can write code that responds appropriate to them with exceptional control flow.\n",
    "\n",
    "The try and except blocks are fundamental to handling errors. The optional else and finally blocks are more supplemental, and more rarely seen."
   ]
  },
  {
   "cell_type": "markdown",
   "metadata": {},
   "source": [
    "```python\n",
    "try:\n",
    "    dangerous_code()\n",
    "except SomeError:\n",
    "    handle_the_error()\n",
    "else: \n",
    "    handle_no_error()\n",
    "finally:\n",
    "    do_no_matter_what() \n",
    "```"
   ]
  },
  {
   "cell_type": "markdown",
   "metadata": {},
   "source": [
    "The first, and most important step, is that we create an `InvalidPasswordError` that is a subclass of ``ValueError``, so that it's part of the `Exception` hierarchy. With that defined, the `validate_password` function can raise an `InvalidPasswordError` with a helpful message if the supplied password is `invalid`. Finally, the main function will use a `try`/`except`/`else`/`finally` block to \n",
    "* 1- attempt to validate a password, \n",
    "* 2- respond to any InvalidPasswordError raised in the try block, \n",
    "* 3- create an account if there was no InvalidPasswordError, and finally print a generic cleanup message."
   ]
  },
  {
   "cell_type": "code",
   "execution_count": 76,
   "metadata": {},
   "outputs": [],
   "source": [
    "class InvalidPasswordError(ValueError):\n",
    "    pass\n",
    "\n",
    "\n",
    "INVALID_PASSWORDS = (\n",
    "    'password',\n",
    "    'abc123',\n",
    "    '123abc',\n",
    ")\n",
    "\n",
    "\n",
    "def validate_password(username, password):\n",
    "    if password == username:\n",
    "        raise InvalidPasswordError(\"Password cannot be the same as your username.\")\n",
    "    if password in INVALID_PASSWORDS:\n",
    "        raise InvalidPasswordError(\"Password cannot one of the most common passwords.\")\n",
    "\n",
    "\n",
    "def create_account(username, password):\n",
    "    return (username, password)\n",
    "\n",
    "\n",
    "def main(username, password):\n",
    "    try:\n",
    "        validate_password(username, password)\n",
    "    except InvalidPasswordError as err:\n",
    "        print(err)\n",
    "    else:\n",
    "        account = create_account(username, password)\n",
    "    finally:\n",
    "        print(\"Validated password against username and collection\")"
   ]
  },
  {
   "cell_type": "code",
   "execution_count": 77,
   "metadata": {},
   "outputs": [
    {
     "name": "stdout",
     "output_type": "stream",
     "text": [
      "Validated password against username and collection\n"
     ]
    }
   ],
   "source": [
    "main(\"holaa\", \"pasps \")"
   ]
  },
  {
   "cell_type": "markdown",
   "metadata": {},
   "source": [
    "## C3 Linearization\n",
    "---\n",
    "When thinking with attribute resolution, we observed that attribute resolution on class objects proceeds up a linearization of the class object's superclasses. In the case of multiple inheritance, how does a potentially interconnected set of superclasses get linearized? Python uses an algorithm called C3 linearization. The details are complex, but the end result is that Python can linearize the inheritance hierarchy of a class object. An example from that same page:"
   ]
  },
  {
   "cell_type": "code",
   "execution_count": 78,
   "metadata": {},
   "outputs": [
    {
     "name": "stdout",
     "output_type": "stream",
     "text": [
      "[<class '__main__.Z'>, <class '__main__.K1'>, <class '__main__.K2'>, <class '__main__.K3'>, <class '__main__.D'>, <class '__main__.A'>, <class '__main__.B'>, <class '__main__.C'>, <class '__main__.E'>, <class 'object'>]\n"
     ]
    }
   ],
   "source": [
    "class A: pass\n",
    "class B: pass\n",
    "class C: pass\n",
    "class D: pass\n",
    "class E: pass\n",
    "class K1(A, B, C): pass\n",
    "class K2(D, B, E): pass\n",
    "class K3(D, A): pass\n",
    "class Z(K1, K2, K3): pass\n",
    "\n",
    "# Print the C3 linearization of Z's superclasses, accessible by the `type.mro` function, which stands for Method Resolution Order.\n",
    "print(Z.mro())  # [Z, K1, K2, K3, D, A, B, C, E, object]\n"
   ]
  },
  {
   "cell_type": "code",
   "execution_count": 80,
   "metadata": {},
   "outputs": [
    {
     "data": {
      "text/plain": [
       "[__main__.InvalidPasswordError, ValueError, Exception, BaseException, object]"
      ]
     },
     "execution_count": 80,
     "metadata": {},
     "output_type": "execute_result"
    }
   ],
   "source": [
    "InvalidPasswordError.mro()"
   ]
  },
  {
   "cell_type": "markdown",
   "metadata": {},
   "source": [
    "## Slots\n",
    "We saw that arbitrary attributes can be assigned onto class objects. A class object can define a `__slots__` attribute to a list of attribute names to avoid this behavior. If `__slots__` is defined, its elements are the only acceptable attribute names, and the class object has no `__dict__` attribute. This results in slightly smaller class objects and slightly faster attribute resolution, but removes flexibility."
   ]
  },
  {
   "cell_type": "code",
   "execution_count": 87,
   "metadata": {},
   "outputs": [
    {
     "name": "stdout",
     "output_type": "stream",
     "text": [
      "Seb 1\n",
      "Seb 1\n",
      "{'name': 'Seb', 'uid': 1}\n"
     ]
    },
    {
     "ename": "AttributeError",
     "evalue": "'SlottedExample' object has no attribute '__dict__'",
     "output_type": "error",
     "traceback": [
      "\u001b[1;31m---------------------------------------------------------------------------\u001b[0m",
      "\u001b[1;31mAttributeError\u001b[0m                            Traceback (most recent call last)",
      "\u001b[1;32m~\\AppData\\Local\\Temp/ipykernel_11536/197891138.py\u001b[0m in \u001b[0;36m<module>\u001b[1;34m\u001b[0m\n\u001b[0;32m     20\u001b[0m \u001b[1;33m\u001b[0m\u001b[0m\n\u001b[0;32m     21\u001b[0m \u001b[0mprint\u001b[0m\u001b[1;33m(\u001b[0m\u001b[0ma\u001b[0m\u001b[1;33m.\u001b[0m\u001b[0m__dict__\u001b[0m\u001b[1;33m)\u001b[0m  \u001b[1;31m# {'name': 'Seb', 'uid': 1}\u001b[0m\u001b[1;33m\u001b[0m\u001b[1;33m\u001b[0m\u001b[0m\n\u001b[1;32m---> 22\u001b[1;33m \u001b[0mprint\u001b[0m\u001b[1;33m(\u001b[0m\u001b[0mb\u001b[0m\u001b[1;33m.\u001b[0m\u001b[0m__dict__\u001b[0m\u001b[1;33m)\u001b[0m\u001b[1;33m\u001b[0m\u001b[1;33m\u001b[0m\u001b[0m\n\u001b[0m\u001b[0;32m     23\u001b[0m \u001b[1;31m# AttributeError: 'SlottedExample' object has no attribute '__dict__'\u001b[0m\u001b[1;33m\u001b[0m\u001b[1;33m\u001b[0m\u001b[0m\n\u001b[0;32m     24\u001b[0m \u001b[1;33m\u001b[0m\u001b[0m\n",
      "\u001b[1;31mAttributeError\u001b[0m: 'SlottedExample' object has no attribute '__dict__'"
     ]
    }
   ],
   "source": [
    "class NotSlottedExample:\n",
    "    def __init__(self, name, uid):\n",
    "        self.name = name\n",
    "        self.uid = uid\n",
    "\n",
    "\n",
    "class SlottedExample:\n",
    "    __slots__ = ['name', 'uid', 'hello']\n",
    "    def __init__(self, name, uid):\n",
    "        self.name = name\n",
    "        self.uid = uid\n",
    "        self.hello = 244\n",
    "\n",
    "\n",
    "a = NotSlottedExample('Seb', 1)\n",
    "b = SlottedExample('Seb', 1)\n",
    "\n",
    "print(a.name, a.uid)  # ('Seb', 1)\n",
    "print(b.name, b.uid)  # ('Seb', 1)\n",
    "\n",
    "print(a.__dict__)  # {'name': 'Seb', 'uid': 1}\n",
    "print(b.__dict__)\n",
    "# AttributeError: 'SlottedExample' object has no attribute '__dict__'\n",
    "\n",
    "a.founder = True  # Okay, no errors here!\n",
    "b.founder = True\n",
    "# AttributeError: 'SlottedExample' object has no attribute 'founder'"
   ]
  },
  {
   "cell_type": "code",
   "execution_count": null,
   "metadata": {},
   "outputs": [],
   "source": []
  }
 ],
 "metadata": {
  "interpreter": {
   "hash": "7a9b25cab5cf87515b1aea335a4811a28e597febd6b2721560b12340e00708cd"
  },
  "kernelspec": {
   "display_name": "Python 3.9.7 ('base')",
   "language": "python",
   "name": "python3"
  },
  "language_info": {
   "codemirror_mode": {
    "name": "ipython",
    "version": 3
   },
   "file_extension": ".py",
   "mimetype": "text/x-python",
   "name": "python",
   "nbconvert_exporter": "python",
   "pygments_lexer": "ipython3",
   "version": "3.9.7"
  },
  "orig_nbformat": 4
 },
 "nbformat": 4,
 "nbformat_minor": 2
}
