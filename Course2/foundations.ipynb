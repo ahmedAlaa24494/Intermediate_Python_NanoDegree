{
 "cells": [
  {
   "cell_type": "code",
   "execution_count": null,
   "metadata": {},
   "outputs": [],
   "source": []
  },
  {
   "cell_type": "markdown",
   "metadata": {},
   "source": [
    "## Documenting Python Code"
   ]
  },
  {
   "cell_type": "markdown",
   "metadata": {},
   "source": [
    "As your programs grow, you'll need to add contextual information to ensure future developers (or yourself in many years) can understand and interpret your code correctly. Python has some unique guidelines for documentation of code.\n",
    "\n",
    "\n",
    "They can be one-liners for obvious cases:"
   ]
  },
  {
   "cell_type": "code",
   "execution_count": null,
   "metadata": {},
   "outputs": [],
   "source": [
    "def add(a, b):\n",
    "     \"\"\"Return the sum of a and b.\"\"\"\n",
    "    return a + b"
   ]
  },
  {
   "cell_type": "code",
   "execution_count": 1,
   "metadata": {},
   "outputs": [],
   "source": [
    "def divide(a=1, b=2):\n",
    "    \"\"\"Return the quotient of a divided by b.\n",
    "    Arguments:\n",
    "        a {int} -- the numerator (defaults 1)\n",
    "        b {int} -- the denominator (defaults 2)\n",
    "    Raises:\n",
    "        Exception: if b is 0\n",
    "    \"\"\"\n",
    "    if b == 0:\n",
    "       raise Exception(\"Cannot divide by zero.\")\n",
    "    return a / b"
   ]
  },
  {
   "cell_type": "markdown",
   "metadata": {},
   "source": [
    "`Doctest` is a simple module that allows you to declare expected outputs for specific inputs of a method directly in a docstring comment. For example:"
   ]
  },
  {
   "cell_type": "code",
   "execution_count": 2,
   "metadata": {},
   "outputs": [],
   "source": [
    "import doctest"
   ]
  },
  {
   "cell_type": "code",
   "execution_count": 4,
   "metadata": {},
   "outputs": [],
   "source": [
    "def add(a, b):\n",
    "    \"\"\"Return the sum of a and b\n",
    "\n",
    "    >>> add(1, 1)\n",
    "    2\n",
    "    \"\"\"\n",
    "\n",
    "    return a+b"
   ]
  },
  {
   "cell_type": "code",
   "execution_count": 13,
   "metadata": {},
   "outputs": [
    {
     "name": "stdout",
     "output_type": "stream",
     "text": [
      "**********************************************************************\n",
      "File \"__main__\", line 24, in __main__.Cat.addition\n",
      "Failed example:\n",
      "    kitty.addition(2,3)\n",
      "Expected:\n",
      "    4\n",
      "Got:\n",
      "    5\n",
      "**********************************************************************\n",
      "1 items had failures:\n",
      "   1 of   1 in __main__.Cat.addition\n",
      "***Test Failed*** 1 failures.\n"
     ]
    }
   ],
   "source": [
    "class Cat():\n",
    "\n",
    "    def __init__(self, name:str, age:int):\n",
    "        \"\"\"Create New Cat\n",
    "        \n",
    "        Arguments : \n",
    "            name {str} -- the name of the cat\n",
    "            age {str} -- The age of the cat in years\n",
    "        \"\"\"\n",
    "        self.name = name\n",
    "        self.age = age\n",
    "\n",
    "    def speak(self) -> None:\n",
    "        \"\"\"Make a cute cat sound.\n",
    "\n",
    "        >>> kitty.speak()\n",
    "        Spot says, purrrrrr.\n",
    "        \"\"\"\n",
    "        print(f'{self.name} says, purrrrrr.')\n",
    "        \n",
    "    def addition(self,a:int, b:int)->int:\n",
    "        \"\"\"Add Two Numbers \n",
    "\n",
    "        >>> kitty.addition(2,3)\n",
    "        4\n",
    "        \"\"\"\n",
    "        return a+b\n",
    "if __name__ == \"__main__\":\n",
    "    import doctest\n",
    "    doctest.testmod(extraglobs={'kitty': Cat('Spot', 3)})"
   ]
  },
  {
   "cell_type": "markdown",
   "metadata": {},
   "source": [
    "## Abstract Classes\n",
    "### What is an abstract class?\n",
    "When defining objects, we often need a way to only partially define those objects. For example, we may know that objects made from a particular class should all include a particular method, but it is not clear what the body of that method should be. With our example of an Animal class, we may know that we want it to have an eat method (since all Animal objects need to eat), but not know the specifics of what that method should do (since each Animal can have different eating behavior).\n",
    "***_In Python we can define an abstract class by inheriting the Python Standard Library's Abstract Base Class (ABC). This helps us out in two ways:_***\n",
    "\n",
    "* It prevents an abstract class from being instantiated.\n",
    "* It indicates that any abstract methods should be defined in the children classes.\n",
    "To do this, we would first import ABC, and then we can have our Animal class inherit from it:"
   ]
  },
  {
   "cell_type": "code",
   "execution_count": 1,
   "metadata": {},
   "outputs": [],
   "source": [
    "from abc import ABC\n",
    "\n",
    "class Animal(ABC):\n",
    "    pass"
   ]
  },
  {
   "cell_type": "markdown",
   "metadata": {},
   "source": [
    "***_Image manuplating_***"
   ]
  },
  {
   "cell_type": "code",
   "execution_count": null,
   "metadata": {},
   "outputs": [],
   "source": [
    "from PIL import Image\n",
    "\n",
    "def generate_postcard(in_path, out_path, crop=None, width=None):\n",
    "    \"\"\"Create a Postcard With a Text Greeting\n",
    "\n",
    "    Arguments:\n",
    "        in_path {str} -- the file location for the input image.\n",
    "        out_path {str} -- the desired location for the output image.\n",
    "    Returns:\n",
    "        str -- the file path to the output image.\n",
    "    \"\"\"\n",
    "    img = Image.open(in_path)\n",
    "\n",
    "    if crop is not None:\n",
    "        img = img.crop(crop)\n",
    "\n",
    "    if width is not None:\n",
    "        ratio = width/float(img.size[0])\n",
    "        height = int(ratio*float(img.size[1]))\n",
    "        img = img.resize((width, height), Image.NEAREST)\n",
    "\n",
    "    img.save(out_path)\n",
    "    return out_path\n",
    "\n",
    "if __name__=='__main__':\n",
    "    print(generate_postcard('./imgs/img.jpg', \n",
    "                            './imgs/out.jpg',\n",
    "                            (450, 900, 900, 1300),\n",
    "                            200))"
   ]
  }
 ],
 "metadata": {
  "interpreter": {
   "hash": "b480faa8246fe4c6b74d0d9fc3b6d38aeb42a068cd8fb11e4c3f49d451259f48"
  },
  "kernelspec": {
   "display_name": "Python 3.8.5 ('base')",
   "language": "python",
   "name": "python3"
  },
  "language_info": {
   "codemirror_mode": {
    "name": "ipython",
    "version": 3
   },
   "file_extension": ".py",
   "mimetype": "text/x-python",
   "name": "python",
   "nbconvert_exporter": "python",
   "pygments_lexer": "ipython3",
   "version": "3.8.5"
  },
  "orig_nbformat": 4
 },
 "nbformat": 4,
 "nbformat_minor": 2
}
