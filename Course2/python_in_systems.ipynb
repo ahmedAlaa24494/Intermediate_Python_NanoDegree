{
 "cells": [
  {
   "cell_type": "code",
   "execution_count": 2,
   "metadata": {},
   "outputs": [
    {
     "name": "stderr",
     "output_type": "stream",
     "text": [
      "usage: ipykernel_launcher.py [-h] [--city CITY] name\n",
      "ipykernel_launcher.py: error: the following arguments are required: name\n"
     ]
    },
    {
     "ename": "SystemExit",
     "evalue": "2",
     "output_type": "error",
     "traceback": [
      "An exception has occurred, use %tb to see the full traceback.\n",
      "\u001b[1;31mSystemExit\u001b[0m\u001b[1;31m:\u001b[0m 2\n"
     ]
    }
   ],
   "source": [
    "import argparse\n",
    "\n",
    "if __name__ == \"__main__\":\n",
    "    parser = argparse.ArgumentParser(description=\"Say a Greeting.\")\n",
    "    parser.add_argument('name', type=str)\n",
    "    parser.add_argument('--city', type=str, \n",
    "                        default=\"San Fran\", help=\"where is the person from?\")\n",
    "\n",
    "    args = parser.parse_args()\n",
    "    name = args.name\n",
    "    city = args.city\n",
    "    print(f'Hello, {name} from {city}')\n"
   ]
  },
  {
   "cell_type": "code",
   "execution_count": null,
   "metadata": {},
   "outputs": [],
   "source": []
  }
 ],
 "metadata": {
  "interpreter": {
   "hash": "b480faa8246fe4c6b74d0d9fc3b6d38aeb42a068cd8fb11e4c3f49d451259f48"
  },
  "kernelspec": {
   "display_name": "Python 3.8.5 ('base')",
   "language": "python",
   "name": "python3"
  },
  "language_info": {
   "codemirror_mode": {
    "name": "ipython",
    "version": 3
   },
   "file_extension": ".py",
   "mimetype": "text/x-python",
   "name": "python",
   "nbconvert_exporter": "python",
   "pygments_lexer": "ipython3",
   "version": "3.8.5"
  },
  "orig_nbformat": 4
 },
 "nbformat": 4,
 "nbformat_minor": 2
}
