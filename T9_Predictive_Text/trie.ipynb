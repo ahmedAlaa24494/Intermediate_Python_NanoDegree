{
 "cells": [
  {
   "cell_type": "code",
   "execution_count": 2,
   "metadata": {},
   "outputs": [],
   "source": [
    "import re\n",
    "import sys\n",
    "\n",
    "\n",
    "keymap = {\n",
    "    '2': 'abc',\n",
    "    '3': 'def',\n",
    "    '4': 'ghi',\n",
    "    '5': 'jkl',\n",
    "    '6': 'mno',\n",
    "    '7': 'pqrs',\n",
    "    '8': 'tuv',\n",
    "    '9': 'wxyz',\n",
    "}\n",
    "\n",
    "\n",
    "def ask_for_numbers():\n",
    "    while True:\n",
    "        response = input('What numbers have you pressed? ').strip()\n",
    "        if len(response) < 3:\n",
    "            print('You need to enter at least three numbers.', file=sys.stderr)\n",
    "        elif re.search(\"[^2-9]\", response):\n",
    "            print(\"You entered a character that isn't one of 2, 3, 4, 5, 6, 7, 8, or 9. Please try again.\", file=sys.stderr)\n",
    "        else:\n",
    "            return response\n",
    "\n",
    "\n",
    "def read_content(filename='words.txt'):\n",
    "    with open(filename, 'r') as f:\n",
    "        return f.read().strip().replace(',', ' ')\n",
    "\n",
    "        "
   ]
  },
  {
   "cell_type": "code",
   "execution_count": 6,
   "metadata": {},
   "outputs": [],
   "source": [
    "import helper\n",
    "import gold\n",
    "\n",
    "def parse_content(content):\n",
    "    data = content.split('\\n')\n",
    "    dataset = {}\n",
    "    for line in data : \n",
    "        word , number = tuple(line.split())\n",
    "        dataset[word]  = number \n",
    "    return dataset\n",
    "\n",
    "\n",
    "def make_tree(words):\n",
    "    #In this function we must create tree for each word , \n",
    "    return {}\n",
    "\n",
    "def predict(tree, numbers):\n",
    "    return {}\n"
   ]
  },
  {
   "cell_type": "code",
   "execution_count": 7,
   "metadata": {},
   "outputs": [],
   "source": [
    "content = read_content('Data/ngrams_10k.txt')\n",
    "words = parse_content(content)\n"
   ]
  },
  {
   "cell_type": "code",
   "execution_count": 32,
   "metadata": {},
   "outputs": [],
   "source": [
    "# Let's create our trie structure \n",
    "# There's big tree > Note that we can use the association of letter as pointer to list, this case it won't be printed \n",
    "tree = {} # Build the first tree \n",
    "\n",
    "for word ,freq  in words.items()  :\n",
    "    node= tree # this is the tricky part> now we have object of the whole tree \n",
    "    for ch in word : \n",
    "        if ch not in node : \n",
    "            node[ch] = {} # create new dict or node for this node \n",
    "        \n",
    "        node = node[ch]\n",
    "    \n",
    "    node['$'] = word , freq \n",
    "    "
   ]
  },
  {
   "cell_type": "code",
   "execution_count": 36,
   "metadata": {},
   "outputs": [],
   "source": [
    "leaves = [tree]"
   ]
  },
  {
   "cell_type": "code",
   "execution_count": 35,
   "metadata": {},
   "outputs": [
    {
     "data": {
      "text/plain": [
       "0"
      ]
     },
     "execution_count": 35,
     "metadata": {},
     "output_type": "execute_result"
    }
   ],
   "source": [
    "len(leaves)"
   ]
  },
  {
   "cell_type": "code",
   "execution_count": 26,
   "metadata": {},
   "outputs": [],
   "source": [
    "numbers = helper.ask_for_numbers()"
   ]
  },
  {
   "cell_type": "code",
   "execution_count": 27,
   "metadata": {},
   "outputs": [
    {
     "data": {
      "text/plain": [
       "'6999'"
      ]
     },
     "execution_count": 27,
     "metadata": {},
     "output_type": "execute_result"
    }
   ],
   "source": [
    "numbers"
   ]
  },
  {
   "cell_type": "code",
   "execution_count": 37,
   "metadata": {},
   "outputs": [],
   "source": [
    "numbers = \"234\"\n",
    "'''    '2': 'abc',\n",
    "    '3': 'def',\n",
    "    '4': 'ghi',\n",
    "    '''\n",
    "for number in numbers:\n",
    "    letters = keymap[number] #\"abc\"\n",
    "    leaves = [leaf.get(letter, None) for letter in letters for leaf in leaves] # leaf -> select letter -> \n",
    "    while True:\n",
    "        try:\n",
    "            leaves.remove(None)\n",
    "        except ValueError:\n",
    "            break"
   ]
  },
  {
   "cell_type": "code",
   "execution_count": 38,
   "metadata": {},
   "outputs": [
    {
     "data": {
      "text/plain": [
       "[{'a': {'n': {'$': ('began', '18702296')}},\n",
       "  'i': {'n': {'n': {'i': {'n': {'g': {'$': ('beginning', '13298999'),\n",
       "        's': {'$': ('beginnings', '879303')}}}}},\n",
       "    '$': ('begin', '6926245'),\n",
       "    's': {'$': ('begins', '4273200')}}},\n",
       "  'u': {'n': {'$': ('begun', '4312110')}},\n",
       "  '$': ('beg', '1824688'),\n",
       "  'g': {'e': {'d': {'$': ('begged', '1155461')}}}},\n",
       " {'e': {'r': {'e': {'n': {'t': {'s': {'$': ('adherents', '764311')}}},\n",
       "     '$': ('adhere', '653132')}}}},\n",
       " {'i': {'n': {'d': {'$': ('behind', '13177260')}}},\n",
       "  'a': {'v': {'i': {'o': {'r': {'$': ('behavior', '7116719'),\n",
       "       'a': {'l': {'$': ('behavioral', '931782')}},\n",
       "       's': {'$': ('behaviors', '700903')}},\n",
       "      'u': {'r': {'$': ('behaviour', '2725016')}}}},\n",
       "    'e': {'$': ('behave', '860988'), 'd': {'$': ('behaved', '679612')}}},\n",
       "   'l': {'f': {'$': ('behalf', '2963450')}}},\n",
       "  'o': {'l': {'d': {'$': ('behold', '2193264')}}},\n",
       "  'e': {'l': {'d': {'$': ('beheld', '1101886')}}}},\n",
       " {'n': {'g': {'$': ('being', '88343267'), 's': {'$': ('beings', '3595324')}}}},\n",
       " {'l': {'i': {'n': {'g': {'$': ('ceiling', '1089777')}}}}}]"
      ]
     },
     "execution_count": 38,
     "metadata": {},
     "output_type": "execute_result"
    }
   ],
   "source": [
    "leaves"
   ]
  },
  {
   "cell_type": "code",
   "execution_count": null,
   "metadata": {},
   "outputs": [],
   "source": []
  }
 ],
 "metadata": {
  "interpreter": {
   "hash": "7a9b25cab5cf87515b1aea335a4811a28e597febd6b2721560b12340e00708cd"
  },
  "kernelspec": {
   "display_name": "Python 3.9.7 ('base')",
   "language": "python",
   "name": "python3"
  },
  "language_info": {
   "codemirror_mode": {
    "name": "ipython",
    "version": 3
   },
   "file_extension": ".py",
   "mimetype": "text/x-python",
   "name": "python",
   "nbconvert_exporter": "python",
   "pygments_lexer": "ipython3",
   "version": "3.9.7"
  },
  "orig_nbformat": 4
 },
 "nbformat": 4,
 "nbformat_minor": 2
}
